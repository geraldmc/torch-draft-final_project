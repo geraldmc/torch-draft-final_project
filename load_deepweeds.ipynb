{
  "cells": [
    {
      "cell_type": "markdown",
      "metadata": {
        "colab_type": "text",
        "id": "view-in-github"
      },
      "source": [
        "<a href=\"https://colab.research.google.com/github/geraldmc/torch-draft-final_project/blob/main/load_deepweeds.ipynb\" target=\"_parent\"><img src=\"https://colab.research.google.com/assets/colab-badge.svg\" alt=\"Open In Colab\"/></a>"
      ]
    },
    {
      "cell_type": "markdown",
      "metadata": {
        "id": "6wPyFhD6s3Zc"
      },
      "source": [
        "## Welcome to the **[Project Page ...](https://)**\n",
        "\n",
        "This notebook is associated with the project submission of MOHAMMED RASHED and GERALD MCCOLLAM and for the class `EN.525.733.8VL.SP22 Deep Learning for Computer Vision`. Our semester project is [Weed Object Detection](https://).\n",
        "\n",
        "This notebook may be executed by pressing ▶️ block-by-block, without adjusting `args` inputs. It may also be executed with `Run all` under ` Runtime` in the menu.\n",
        "\n",
        "<hr>"
      ]
    },
    {
      "cell_type": "markdown",
      "metadata": {
        "id": "2pbxKpG6s9vK"
      },
      "source": [
        "### Download the code from Github"
      ]
    },
    {
      "cell_type": "code",
      "execution_count": 1,
      "metadata": {
        "colab": {
          "base_uri": "https://localhost:8080/"
        },
        "id": "0YZMmT0PtCog",
        "outputId": "7b990a66-048a-4e99-b36f-53e6b6171540"
      },
      "outputs": [
        {
          "name": "stdout",
          "output_type": "stream",
          "text": [
            "Downloading file...\n",
            "--2022-03-29 22:06:09--  https://github.com/geraldmc/torch-draft-final_project/archive/refs/heads/main.zip\n",
            "Resolving github.com (github.com)... 52.192.72.89\n",
            "Connecting to github.com (github.com)|52.192.72.89|:443... connected.\n",
            "HTTP request sent, awaiting response... 302 Found\n",
            "Location: https://codeload.github.com/geraldmc/torch-draft-final_project/zip/refs/heads/main [following]\n",
            "--2022-03-29 22:06:09--  https://codeload.github.com/geraldmc/torch-draft-final_project/zip/refs/heads/main\n",
            "Resolving codeload.github.com (codeload.github.com)... 52.193.111.178\n",
            "Connecting to codeload.github.com (codeload.github.com)|52.193.111.178|:443... connected.\n",
            "HTTP request sent, awaiting response... 200 OK\n",
            "Length: unspecified [application/zip]\n",
            "Saving to: ‘main.zip’\n",
            "\n",
            "main.zip                [ <=>                ] 526.76K  2.65MB/s    in 0.2s    \n",
            "\n",
            "2022-03-29 22:06:11 (2.65 MB/s) - ‘main.zip’ saved [539403]\n",
            "\n",
            "/content/torch-draft-final_project-main\n"
          ]
        }
      ],
      "source": [
        "import os\n",
        "\n",
        "if os.path.isfile(\"../main.zip\"):\n",
        "  print ('Have already downloaded the project file, continuing...')\n",
        "  print()\n",
        "else:\n",
        "  print ('Downloading file...')\n",
        "  ! wget https://github.com/geraldmc/torch-draft-final_project/archive/refs/heads/main.zip\n",
        "  ! unzip -qq main.zip\n",
        "  %cd torch-draft-final_project-main"
      ]
    },
    {
      "cell_type": "markdown",
      "metadata": {
        "id": "kVFrg7wPtJnj"
      },
      "source": [
        "### Download the dataset from Google Drive"
      ]
    },
    {
      "cell_type": "markdown",
      "metadata": {
        "id": "f0m5cds_tPVd"
      },
      "source": [
        "The project dataset and models are available on the DeepWeeds Github. There are two options for getting these into our Colab Notebook environment - \n",
        "\n",
        "* Download from Github as two zipped files ([dataset link here](https://drive.google.com/file/d/1xnK3B6K6KekDI55vwJ0vnc2IGoDga9cj), [models file link here](https://drive.google.com/file/d/1MRbN5hXOTYnw7-71K-2vjY01uJ9GkQM5)) and upload these to Google Drive, then mount Google Drive on Colab to access the uploaded dataset and models. \n",
        "* Use the [Drive API](https://) to download the dataset and models into the Colab Notebook. "
      ]
    },
    {
      "cell_type": "code",
      "execution_count": 2,
      "metadata": {
        "id": "ubRbJJ66tSMx"
      },
      "outputs": [],
      "source": [
        "# Import local libs in a try block\n",
        "try:\n",
        "  import conf.params as params\n",
        "except ImportError:\n",
        "  pass"
      ]
    },
    {
      "cell_type": "code",
      "execution_count": 3,
      "metadata": {
        "colab": {
          "base_uri": "https://localhost:8080/"
        },
        "id": "BTiLUTS_tUYp",
        "outputId": "bc228ab8-39b0-4f19-a12c-d8f1ee348aa7"
      },
      "outputs": [
        {
          "name": "stdout",
          "output_type": "stream",
          "text": [
            "Mounted at /content/gdrive\n",
            "Downloading DeepWeeds images to /content/torch-draft-final_project-main/data/images.zip\n",
            "\n",
            "-rw------- 1 root root 491516047 Mar 29 22:07 /content/torch-draft-final_project-main/data/images.zip\n"
          ]
        }
      ],
      "source": [
        "from google.colab import drive\n",
        "drive.mount('/content/gdrive')\n",
        "print(\"Downloading DeepWeeds images to \" + params.IMG_ZIP_FILE)\n",
        "!cp '{params.GD_ZIP_IMG}' '{params.IMG_ZIP_FILE}'\n",
        "print()\n",
        "!ls -lart {params.IMG_ZIP_FILE}"
      ]
    },
    {
      "cell_type": "code",
      "execution_count": 4,
      "metadata": {
        "colab": {
          "base_uri": "https://localhost:8080/"
        },
        "id": "YpMBbVF6tXJL",
        "outputId": "5f864ac7-ea03-4f25-933c-5068741b7328"
      },
      "outputs": [
        {
          "name": "stdout",
          "output_type": "stream",
          "text": [
            "Unzipping DeepWeeds images into /content/torch-draft-final_project-main/data/images\n",
            "17509\n"
          ]
        },
        {
          "data": {
            "text/plain": [
              "['20180105-100126-2.jpg',\n",
              " '20170126-100535-0.jpg',\n",
              " '20170217-115626-0.jpg',\n",
              " '20170729-091840-1.jpg',\n",
              " '20170304-132112-0.jpg']"
            ]
          },
          "execution_count": 4,
          "metadata": {},
          "output_type": "execute_result"
        }
      ],
      "source": [
        "from zipfile import ZipFile\n",
        "print(\"Unzipping DeepWeeds images into \" + params.IMG_DIRECTORY)\n",
        "\n",
        "with ZipFile(params.IMG_ZIP_FILE, \"r\") as zip_ref:\n",
        "    zip_ref.extractall(params.IMG_DIRECTORY)\n",
        "\n",
        "img_list=os.listdir(params.IMG_DIRECTORY)\n",
        "print(len(img_list))\n",
        "img_list[0:5]"
      ]
    },
    {
      "cell_type": "markdown",
      "metadata": {},
      "source": [
        "### Download and instantiate Imagenet-trained resnet50 model for Pytorch.\n",
        "\n",
        "*Author: Pytorch Team*\n",
        "\n",
        "**Deep residual networks pre-trained on ImageNet**\n",
        "\n",
        "<img src=\"https://pytorch.org/assets/images/resnet.png\" alt=\"alt\" width=\"50%\"/>\n",
        "\n",
        "Pre-trained models expect input images normalized in the same way, i.e. mini-batches of 3-channel RGB images of shape (3 x H x W), where H and W are expected to be at least 224. The images have to be loaded in to a range of [0, 1] then normalized using mean = [0.485, 0.456, 0.406] and std = [0.229, 0.224, 0.225]."
      ]
    },
    {
      "cell_type": "code",
      "execution_count": null,
      "metadata": {},
      "outputs": [],
      "source": [
        "import torch\n",
        "resnet50_torch = torch.hub.load('pytorch/vision:v0.10.0', 'resnet50', pretrained=True)"
      ]
    },
    {
      "cell_type": "code",
      "execution_count": null,
      "metadata": {},
      "outputs": [],
      "source": [
        "# Sample load and execution\n",
        "from PIL import Image\n",
        "from torchvision import transforms\n",
        "\n",
        "preprocess = transforms.Compose([\n",
        "    transforms.Resize(256),\n",
        "    transforms.CenterCrop(224),\n",
        "    transforms.ToTensor(),\n",
        "    transforms.Normalize(mean=[0.485, 0.456, 0.406], std=[0.229, 0.224, 0.225]),\n",
        "])\n",
        "\n",
        "def single_image_loader(img):\n",
        "    image = Image.open(img)\n",
        "    input_tensor = preprocess(image)\n",
        "    input_batch = input_tensor.unsqueeze(0) # create a mini-batch, as expected\n",
        "    if torch.cuda.is_available():\n",
        "        input_batch = input_batch.to('cuda')\n",
        "    return image, input_batch\n",
        "\n",
        "# move the input and model to GPU for speed if available\n",
        "if torch.cuda.is_available():\n",
        "    resnet50_torch.to('cuda')\n",
        "\n",
        "filename = params.IMG_DIRECTORY + '/20180105-100126-2.jpg'\n",
        "#!ls {filename}\n",
        "image, input_batch = single_image_loader(filename)\n",
        "display(image)\n",
        "\n",
        "with torch.no_grad():\n",
        "    output = resnet50_torch(input_batch)\n",
        "# Tensor of shape 1000, with confidence scores over Imagenet's 1000 classes\n",
        "# print(output[0]) # output has unnormalized scores\n",
        "# To get probabilities, you can run a softmax on it.\n",
        "probabilities = torch.nn.functional.softmax(output[0], dim=0)"
      ]
    },
    {
      "cell_type": "markdown",
      "metadata": {},
      "source": [
        "### Alter the fully-connected output layer to match the number of classes."
      ]
    },
    {
      "cell_type": "code",
      "execution_count": null,
      "metadata": {},
      "outputs": [],
      "source": [
        "import torch.nn as nn\n",
        "# Get number of parameters going into the last fc layer.\n",
        "num_final_in = resnet50_torch.fc.in_features\n",
        "\n",
        "# The final layer of the model is model.fc. We can overwrite this \n",
        "# to have the output = number of classes that we want. We want 9 classes.\n",
        "NUM_CLASSES = 9\n",
        "resnet50_torch.fc = nn.Linear(num_final_in, NUM_CLASSES)"
      ]
    },
    {
      "cell_type": "code",
      "execution_count": null,
      "metadata": {},
      "outputs": [],
      "source": [
        "from torchvision import models\n",
        "from torchsummary import summary\n",
        "\n",
        "INPUT_SHAPE = (3, 224, 224)\n",
        "summary(resnet50_torch.cuda(), (INPUT_SHAPE)) # after changing size of output fc layer"
      ]
    },
    {
      "cell_type": "markdown",
      "metadata": {},
      "source": [
        "### Download a pre-trained InceptionV3 model from Pytorch\n",
        "\n",
        "*Author: Pytorch Team*\n",
        "\n",
        "<img src=\"https://pytorch.org/assets/images/inception_v3.png\" alt=\"alt\" width=\"33%\"/>\n",
        "\n",
        "Pre-trained models expect input images normalized in the same way, i.e. mini-batches of 3-channel RGB images of shape (3 x H x W), where H and W are expected to be at least 299. The images have to be loaded in to a range of [0, 1] then normalized using mean = [0.485, 0.456, 0.406] and std = [0.229, 0.224, 0.225]."
      ]
    },
    {
      "cell_type": "code",
      "execution_count": null,
      "metadata": {},
      "outputs": [],
      "source": [
        "inception_v3_torch = torch.hub.load('pytorch/vision:v0.10.0', 'inception_v3', pretrained=True)"
      ]
    },
    {
      "cell_type": "markdown",
      "metadata": {
        "id": "5whn20U8tibV"
      },
      "source": [
        "### Get the Labels"
      ]
    },
    {
      "cell_type": "code",
      "execution_count": 7,
      "metadata": {
        "colab": {
          "base_uri": "https://localhost:8080/"
        },
        "id": "EOQZnKZBtlMa",
        "outputId": "9c511545-0a56-40d7-c028-0c28fc9f33c3"
      },
      "outputs": [
        {
          "name": "stdout",
          "output_type": "stream",
          "text": [
            "labels.csv\t  test_subset3.csv   train_subset2.csv\tval_subset1.csv\n",
            "test_subset0.csv  test_subset4.csv   train_subset3.csv\tval_subset2.csv\n",
            "test_subset1.csv  train_subset0.csv  train_subset4.csv\tval_subset3.csv\n",
            "test_subset2.csv  train_subset1.csv  val_subset0.csv\tval_subset4.csv\n"
          ]
        }
      ],
      "source": [
        "LABEL_PATH = os.path.join(params.DATA_PATH, 'labels')\n",
        "!ls {LABEL_PATH}"
      ]
    },
    {
      "cell_type": "code",
      "execution_count": 8,
      "metadata": {
        "colab": {
          "base_uri": "https://localhost:8080/",
          "height": 423
        },
        "id": "PtvfSeV6tnPH",
        "outputId": "28d92917-e19d-4f23-d595-497ee7fbc5f2"
      },
      "outputs": [
        {
          "data": {
            "text/html": [
              "\n",
              "  <div id=\"df-72201892-a301-4c36-85a1-0e19b0f33905\">\n",
              "    <div class=\"colab-df-container\">\n",
              "      <div>\n",
              "<style scoped>\n",
              "    .dataframe tbody tr th:only-of-type {\n",
              "        vertical-align: middle;\n",
              "    }\n",
              "\n",
              "    .dataframe tbody tr th {\n",
              "        vertical-align: top;\n",
              "    }\n",
              "\n",
              "    .dataframe thead th {\n",
              "        text-align: right;\n",
              "    }\n",
              "</style>\n",
              "<table border=\"1\" class=\"dataframe\">\n",
              "  <thead>\n",
              "    <tr style=\"text-align: right;\">\n",
              "      <th></th>\n",
              "      <th>Filename</th>\n",
              "      <th>Label</th>\n",
              "      <th>Species</th>\n",
              "    </tr>\n",
              "  </thead>\n",
              "  <tbody>\n",
              "    <tr>\n",
              "      <th>0</th>\n",
              "      <td>20160928-140314-0.jpg</td>\n",
              "      <td>0</td>\n",
              "      <td>Chinee apple</td>\n",
              "    </tr>\n",
              "    <tr>\n",
              "      <th>1</th>\n",
              "      <td>20160928-140337-0.jpg</td>\n",
              "      <td>0</td>\n",
              "      <td>Chinee apple</td>\n",
              "    </tr>\n",
              "    <tr>\n",
              "      <th>2</th>\n",
              "      <td>20160928-140731-0.jpg</td>\n",
              "      <td>0</td>\n",
              "      <td>Chinee apple</td>\n",
              "    </tr>\n",
              "    <tr>\n",
              "      <th>3</th>\n",
              "      <td>20160928-140747-0.jpg</td>\n",
              "      <td>0</td>\n",
              "      <td>Chinee apple</td>\n",
              "    </tr>\n",
              "    <tr>\n",
              "      <th>4</th>\n",
              "      <td>20160928-141107-0.jpg</td>\n",
              "      <td>0</td>\n",
              "      <td>Chinee apple</td>\n",
              "    </tr>\n",
              "    <tr>\n",
              "      <th>...</th>\n",
              "      <td>...</td>\n",
              "      <td>...</td>\n",
              "      <td>...</td>\n",
              "    </tr>\n",
              "    <tr>\n",
              "      <th>17504</th>\n",
              "      <td>20180322-133822-1.jpg</td>\n",
              "      <td>8</td>\n",
              "      <td>Negative</td>\n",
              "    </tr>\n",
              "    <tr>\n",
              "      <th>17505</th>\n",
              "      <td>20180322-133832-1.jpg</td>\n",
              "      <td>8</td>\n",
              "      <td>Negative</td>\n",
              "    </tr>\n",
              "    <tr>\n",
              "      <th>17506</th>\n",
              "      <td>20180322-133840-1.jpg</td>\n",
              "      <td>8</td>\n",
              "      <td>Negative</td>\n",
              "    </tr>\n",
              "    <tr>\n",
              "      <th>17507</th>\n",
              "      <td>20180322-133850-1.jpg</td>\n",
              "      <td>8</td>\n",
              "      <td>Negative</td>\n",
              "    </tr>\n",
              "    <tr>\n",
              "      <th>17508</th>\n",
              "      <td>20180322-133901-1.jpg</td>\n",
              "      <td>8</td>\n",
              "      <td>Negative</td>\n",
              "    </tr>\n",
              "  </tbody>\n",
              "</table>\n",
              "<p>17509 rows × 3 columns</p>\n",
              "</div>\n",
              "      <button class=\"colab-df-convert\" onclick=\"convertToInteractive('df-72201892-a301-4c36-85a1-0e19b0f33905')\"\n",
              "              title=\"Convert this dataframe to an interactive table.\"\n",
              "              style=\"display:none;\">\n",
              "        \n",
              "  <svg xmlns=\"http://www.w3.org/2000/svg\" height=\"24px\"viewBox=\"0 0 24 24\"\n",
              "       width=\"24px\">\n",
              "    <path d=\"M0 0h24v24H0V0z\" fill=\"none\"/>\n",
              "    <path d=\"M18.56 5.44l.94 2.06.94-2.06 2.06-.94-2.06-.94-.94-2.06-.94 2.06-2.06.94zm-11 1L8.5 8.5l.94-2.06 2.06-.94-2.06-.94L8.5 2.5l-.94 2.06-2.06.94zm10 10l.94 2.06.94-2.06 2.06-.94-2.06-.94-.94-2.06-.94 2.06-2.06.94z\"/><path d=\"M17.41 7.96l-1.37-1.37c-.4-.4-.92-.59-1.43-.59-.52 0-1.04.2-1.43.59L10.3 9.45l-7.72 7.72c-.78.78-.78 2.05 0 2.83L4 21.41c.39.39.9.59 1.41.59.51 0 1.02-.2 1.41-.59l7.78-7.78 2.81-2.81c.8-.78.8-2.07 0-2.86zM5.41 20L4 18.59l7.72-7.72 1.47 1.35L5.41 20z\"/>\n",
              "  </svg>\n",
              "      </button>\n",
              "      \n",
              "  <style>\n",
              "    .colab-df-container {\n",
              "      display:flex;\n",
              "      flex-wrap:wrap;\n",
              "      gap: 12px;\n",
              "    }\n",
              "\n",
              "    .colab-df-convert {\n",
              "      background-color: #E8F0FE;\n",
              "      border: none;\n",
              "      border-radius: 50%;\n",
              "      cursor: pointer;\n",
              "      display: none;\n",
              "      fill: #1967D2;\n",
              "      height: 32px;\n",
              "      padding: 0 0 0 0;\n",
              "      width: 32px;\n",
              "    }\n",
              "\n",
              "    .colab-df-convert:hover {\n",
              "      background-color: #E2EBFA;\n",
              "      box-shadow: 0px 1px 2px rgba(60, 64, 67, 0.3), 0px 1px 3px 1px rgba(60, 64, 67, 0.15);\n",
              "      fill: #174EA6;\n",
              "    }\n",
              "\n",
              "    [theme=dark] .colab-df-convert {\n",
              "      background-color: #3B4455;\n",
              "      fill: #D2E3FC;\n",
              "    }\n",
              "\n",
              "    [theme=dark] .colab-df-convert:hover {\n",
              "      background-color: #434B5C;\n",
              "      box-shadow: 0px 1px 3px 1px rgba(0, 0, 0, 0.15);\n",
              "      filter: drop-shadow(0px 1px 2px rgba(0, 0, 0, 0.3));\n",
              "      fill: #FFFFFF;\n",
              "    }\n",
              "  </style>\n",
              "\n",
              "      <script>\n",
              "        const buttonEl =\n",
              "          document.querySelector('#df-72201892-a301-4c36-85a1-0e19b0f33905 button.colab-df-convert');\n",
              "        buttonEl.style.display =\n",
              "          google.colab.kernel.accessAllowed ? 'block' : 'none';\n",
              "\n",
              "        async function convertToInteractive(key) {\n",
              "          const element = document.querySelector('#df-72201892-a301-4c36-85a1-0e19b0f33905');\n",
              "          const dataTable =\n",
              "            await google.colab.kernel.invokeFunction('convertToInteractive',\n",
              "                                                     [key], {});\n",
              "          if (!dataTable) return;\n",
              "\n",
              "          const docLinkHtml = 'Like what you see? Visit the ' +\n",
              "            '<a target=\"_blank\" href=https://colab.research.google.com/notebooks/data_table.ipynb>data table notebook</a>'\n",
              "            + ' to learn more about interactive tables.';\n",
              "          element.innerHTML = '';\n",
              "          dataTable['output_type'] = 'display_data';\n",
              "          await google.colab.output.renderOutput(dataTable, element);\n",
              "          const docLink = document.createElement('div');\n",
              "          docLink.innerHTML = docLinkHtml;\n",
              "          element.appendChild(docLink);\n",
              "        }\n",
              "      </script>\n",
              "    </div>\n",
              "  </div>\n",
              "  "
            ],
            "text/plain": [
              "                    Filename  Label       Species\n",
              "0      20160928-140314-0.jpg      0  Chinee apple\n",
              "1      20160928-140337-0.jpg      0  Chinee apple\n",
              "2      20160928-140731-0.jpg      0  Chinee apple\n",
              "3      20160928-140747-0.jpg      0  Chinee apple\n",
              "4      20160928-141107-0.jpg      0  Chinee apple\n",
              "...                      ...    ...           ...\n",
              "17504  20180322-133822-1.jpg      8      Negative\n",
              "17505  20180322-133832-1.jpg      8      Negative\n",
              "17506  20180322-133840-1.jpg      8      Negative\n",
              "17507  20180322-133850-1.jpg      8      Negative\n",
              "17508  20180322-133901-1.jpg      8      Negative\n",
              "\n",
              "[17509 rows x 3 columns]"
            ]
          },
          "execution_count": 8,
          "metadata": {},
          "output_type": "execute_result"
        }
      ],
      "source": [
        "import pandas as pd\n",
        "label_df = pd.read_csv(os.path.join(LABEL_PATH, 'labels.csv'))\n",
        "label_df"
      ]
    },
    {
      "cell_type": "code",
      "execution_count": 9,
      "metadata": {
        "colab": {
          "base_uri": "https://localhost:8080/"
        },
        "id": "j3u7s2uetpbf",
        "outputId": "109ca82d-fc9a-4ccd-cfce-8da9f5f54a5e"
      },
      "outputs": [
        {
          "name": "stdout",
          "output_type": "stream",
          "text": [
            "Combined weed samples=8403. Negative samples=9106.\n"
          ]
        }
      ],
      "source": [
        "label0 = label_df[label_df[\"Label\"] == 0]\n",
        "label1 = label_df[label_df[\"Label\"] == 1]\n",
        "label2 = label_df[label_df[\"Label\"] == 2]\n",
        "label3 = label_df[label_df[\"Label\"] == 3]\n",
        "label4 = label_df[label_df[\"Label\"] == 4]\n",
        "label5 = label_df[label_df[\"Label\"] == 5]\n",
        "label6 = label_df[label_df[\"Label\"] == 6]\n",
        "label7 = label_df[label_df[\"Label\"] == 7]\n",
        "label8 = label_df[label_df[\"Label\"] == 8]\n",
        "\n",
        "len_all_weeds = len(label0) + len(label1) + \\\n",
        "len(label2) + len(label3) + len(label4) + \\\n",
        "len(label5) + len(label6) + len(label7)\n",
        "\n",
        "print('Combined weed samples={}. Negative samples={}.'.format(\n",
        "    len_all_weeds, len(label8) ) )"
      ]
    },
    {
      "cell_type": "code",
      "execution_count": 10,
      "metadata": {
        "colab": {
          "base_uri": "https://localhost:8080/",
          "height": 279
        },
        "id": "4iY00m4ItrjJ",
        "outputId": "79289991-00db-4560-973a-77b07395b2f6"
      },
      "outputs": [
        {
          "data": {
            "image/png": "[encoded data removed]",
            "text/plain": [
              "<Figure size 432x288 with 1 Axes>"
            ]
          },
          "metadata": {
            "needs_background": "light"
          },
          "output_type": "display_data"
        }
      ],
      "source": [
        "import matplotlib.pyplot as plt\n",
        "import seaborn as sns\n",
        "sns.histplot(label_df['Label'], bins=8, discrete=True, color=\"cadetblue\")\n",
        "None"
      ]
    },
    {
      "cell_type": "code",
      "execution_count": 11,
      "metadata": {
        "colab": {
          "base_uri": "https://localhost:8080/",
          "height": 423
        },
        "id": "DnKdW_nGuRlz",
        "outputId": "0f8860fb-4d97-4a12-f973-1b88a602d1d5"
      },
      "outputs": [
        {
          "data": {
            "text/html": [
              "\n",
              "  <div id=\"df-e36534aa-ce4f-4e08-b0f3-f74d7b24036b\">\n",
              "    <div class=\"colab-df-container\">\n",
              "      <div>\n",
              "<style scoped>\n",
              "    .dataframe tbody tr th:only-of-type {\n",
              "        vertical-align: middle;\n",
              "    }\n",
              "\n",
              "    .dataframe tbody tr th {\n",
              "        vertical-align: top;\n",
              "    }\n",
              "\n",
              "    .dataframe thead th {\n",
              "        text-align: right;\n",
              "    }\n",
              "</style>\n",
              "<table border=\"1\" class=\"dataframe\">\n",
              "  <thead>\n",
              "    <tr style=\"text-align: right;\">\n",
              "      <th></th>\n",
              "      <th>Filename</th>\n",
              "      <th>Label</th>\n",
              "      <th>Species</th>\n",
              "    </tr>\n",
              "  </thead>\n",
              "  <tbody>\n",
              "    <tr>\n",
              "      <th>0</th>\n",
              "      <td>20160928-140314-0.jpg</td>\n",
              "      <td>0</td>\n",
              "      <td>Chinee apple</td>\n",
              "    </tr>\n",
              "    <tr>\n",
              "      <th>1</th>\n",
              "      <td>20160928-140337-0.jpg</td>\n",
              "      <td>0</td>\n",
              "      <td>Chinee apple</td>\n",
              "    </tr>\n",
              "    <tr>\n",
              "      <th>2</th>\n",
              "      <td>20160928-140731-0.jpg</td>\n",
              "      <td>0</td>\n",
              "      <td>Chinee apple</td>\n",
              "    </tr>\n",
              "    <tr>\n",
              "      <th>3</th>\n",
              "      <td>20160928-140747-0.jpg</td>\n",
              "      <td>0</td>\n",
              "      <td>Chinee apple</td>\n",
              "    </tr>\n",
              "    <tr>\n",
              "      <th>4</th>\n",
              "      <td>20160928-141107-0.jpg</td>\n",
              "      <td>0</td>\n",
              "      <td>Chinee apple</td>\n",
              "    </tr>\n",
              "    <tr>\n",
              "      <th>...</th>\n",
              "      <td>...</td>\n",
              "      <td>...</td>\n",
              "      <td>...</td>\n",
              "    </tr>\n",
              "    <tr>\n",
              "      <th>6160</th>\n",
              "      <td>20171025-082743-1.jpg</td>\n",
              "      <td>0</td>\n",
              "      <td>Chinee apple</td>\n",
              "    </tr>\n",
              "    <tr>\n",
              "      <th>6162</th>\n",
              "      <td>20171025-082800-1.jpg</td>\n",
              "      <td>0</td>\n",
              "      <td>Chinee apple</td>\n",
              "    </tr>\n",
              "    <tr>\n",
              "      <th>6163</th>\n",
              "      <td>20171025-082818-1.jpg</td>\n",
              "      <td>0</td>\n",
              "      <td>Chinee apple</td>\n",
              "    </tr>\n",
              "    <tr>\n",
              "      <th>6165</th>\n",
              "      <td>20171025-082836-1.jpg</td>\n",
              "      <td>0</td>\n",
              "      <td>Chinee apple</td>\n",
              "    </tr>\n",
              "    <tr>\n",
              "      <th>6167</th>\n",
              "      <td>20171025-082853-1.jpg</td>\n",
              "      <td>0</td>\n",
              "      <td>Chinee apple</td>\n",
              "    </tr>\n",
              "  </tbody>\n",
              "</table>\n",
              "<p>1125 rows × 3 columns</p>\n",
              "</div>\n",
              "      <button class=\"colab-df-convert\" onclick=\"convertToInteractive('df-e36534aa-ce4f-4e08-b0f3-f74d7b24036b')\"\n",
              "              title=\"Convert this dataframe to an interactive table.\"\n",
              "              style=\"display:none;\">\n",
              "        \n",
              "  <svg xmlns=\"http://www.w3.org/2000/svg\" height=\"24px\"viewBox=\"0 0 24 24\"\n",
              "       width=\"24px\">\n",
              "    <path d=\"M0 0h24v24H0V0z\" fill=\"none\"/>\n",
              "    <path d=\"M18.56 5.44l.94 2.06.94-2.06 2.06-.94-2.06-.94-.94-2.06-.94 2.06-2.06.94zm-11 1L8.5 8.5l.94-2.06 2.06-.94-2.06-.94L8.5 2.5l-.94 2.06-2.06.94zm10 10l.94 2.06.94-2.06 2.06-.94-2.06-.94-.94-2.06-.94 2.06-2.06.94z\"/><path d=\"M17.41 7.96l-1.37-1.37c-.4-.4-.92-.59-1.43-.59-.52 0-1.04.2-1.43.59L10.3 9.45l-7.72 7.72c-.78.78-.78 2.05 0 2.83L4 21.41c.39.39.9.59 1.41.59.51 0 1.02-.2 1.41-.59l7.78-7.78 2.81-2.81c.8-.78.8-2.07 0-2.86zM5.41 20L4 18.59l7.72-7.72 1.47 1.35L5.41 20z\"/>\n",
              "  </svg>\n",
              "      </button>\n",
              "      \n",
              "  <style>\n",
              "    .colab-df-container {\n",
              "      display:flex;\n",
              "      flex-wrap:wrap;\n",
              "      gap: 12px;\n",
              "    }\n",
              "\n",
              "    .colab-df-convert {\n",
              "      background-color: #E8F0FE;\n",
              "      border: none;\n",
              "      border-radius: 50%;\n",
              "      cursor: pointer;\n",
              "      display: none;\n",
              "      fill: #1967D2;\n",
              "      height: 32px;\n",
              "      padding: 0 0 0 0;\n",
              "      width: 32px;\n",
              "    }\n",
              "\n",
              "    .colab-df-convert:hover {\n",
              "      background-color: #E2EBFA;\n",
              "      box-shadow: 0px 1px 2px rgba(60, 64, 67, 0.3), 0px 1px 3px 1px rgba(60, 64, 67, 0.15);\n",
              "      fill: #174EA6;\n",
              "    }\n",
              "\n",
              "    [theme=dark] .colab-df-convert {\n",
              "      background-color: #3B4455;\n",
              "      fill: #D2E3FC;\n",
              "    }\n",
              "\n",
              "    [theme=dark] .colab-df-convert:hover {\n",
              "      background-color: #434B5C;\n",
              "      box-shadow: 0px 1px 3px 1px rgba(0, 0, 0, 0.15);\n",
              "      filter: drop-shadow(0px 1px 2px rgba(0, 0, 0, 0.3));\n",
              "      fill: #FFFFFF;\n",
              "    }\n",
              "  </style>\n",
              "\n",
              "      <script>\n",
              "        const buttonEl =\n",
              "          document.querySelector('#df-e36534aa-ce4f-4e08-b0f3-f74d7b24036b button.colab-df-convert');\n",
              "        buttonEl.style.display =\n",
              "          google.colab.kernel.accessAllowed ? 'block' : 'none';\n",
              "\n",
              "        async function convertToInteractive(key) {\n",
              "          const element = document.querySelector('#df-e36534aa-ce4f-4e08-b0f3-f74d7b24036b');\n",
              "          const dataTable =\n",
              "            await google.colab.kernel.invokeFunction('convertToInteractive',\n",
              "                                                     [key], {});\n",
              "          if (!dataTable) return;\n",
              "\n",
              "          const docLinkHtml = 'Like what you see? Visit the ' +\n",
              "            '<a target=\"_blank\" href=https://colab.research.google.com/notebooks/data_table.ipynb>data table notebook</a>'\n",
              "            + ' to learn more about interactive tables.';\n",
              "          element.innerHTML = '';\n",
              "          dataTable['output_type'] = 'display_data';\n",
              "          await google.colab.output.renderOutput(dataTable, element);\n",
              "          const docLink = document.createElement('div');\n",
              "          docLink.innerHTML = docLinkHtml;\n",
              "          element.appendChild(docLink);\n",
              "        }\n",
              "      </script>\n",
              "    </div>\n",
              "  </div>\n",
              "  "
            ],
            "text/plain": [
              "                   Filename  Label       Species\n",
              "0     20160928-140314-0.jpg      0  Chinee apple\n",
              "1     20160928-140337-0.jpg      0  Chinee apple\n",
              "2     20160928-140731-0.jpg      0  Chinee apple\n",
              "3     20160928-140747-0.jpg      0  Chinee apple\n",
              "4     20160928-141107-0.jpg      0  Chinee apple\n",
              "...                     ...    ...           ...\n",
              "6160  20171025-082743-1.jpg      0  Chinee apple\n",
              "6162  20171025-082800-1.jpg      0  Chinee apple\n",
              "6163  20171025-082818-1.jpg      0  Chinee apple\n",
              "6165  20171025-082836-1.jpg      0  Chinee apple\n",
              "6167  20171025-082853-1.jpg      0  Chinee apple\n",
              "\n",
              "[1125 rows x 3 columns]"
            ]
          },
          "execution_count": 11,
          "metadata": {},
          "output_type": "execute_result"
        }
      ],
      "source": [
        "label0"
      ]
    },
    {
      "cell_type": "code",
      "execution_count": null,
      "metadata": {},
      "outputs": [],
      "source": [
        "# Prepare training, validation and testing labels\n",
        "train_label_file = \"{}/train_subset{}.csv\".format(LABEL_PATH, 0)\n",
        "test_label_file = \"{}/test_subset{}.csv\".format(LABEL_PATH, 0)\n",
        "val_label_file = \"{}/val_subset{}.csv\".format(LABEL_PATH, 0)\n",
        "\n",
        "train_df = pd.read_csv(train_label_file)\n",
        "test_df = pd.read_csv(test_label_file)\n",
        "val_df = pd.read_csv(val_label_file)\n",
        "\n",
        "train_count = train_df.shape[0]\n",
        "val_count = val_df.shape[0]\n",
        "test_count = test_df.shape[0]"
      ]
    },
    {
      "cell_type": "code",
      "execution_count": null,
      "metadata": {},
      "outputs": [],
      "source": [
        "print('Train={}, Val={}, Test={}'.format(train_count, val_count, test_count))"
      ]
    },
    {
      "cell_type": "code",
      "execution_count": null,
      "metadata": {},
      "outputs": [],
      "source": [
        "''' GUTTER ------ \n",
        "\n",
        "### Download the models from Google Drive\n",
        "\n",
        "print(\"Downloading DeepWeeds model file to \" + params.MODEL_ZIP_FILE)\n",
        "!cp '{params.GD_ZIP_MODEL}' {params.MODEL_ZIP_FILE}\n",
        "print()\n",
        "!ls -lart {params.MODEL_ZIP_FILE}\n",
        "\n",
        "\n",
        "print(\"Unzipping DeepWeeds model files into \" + params.MODEL_DIRECTORY)\n",
        "with ZipFile(params.MODEL_ZIP_FILE, \"r\") as zip_ref:\n",
        "    zip_ref.extractall(params.MODEL_DIRECTORY)\n",
        "\n",
        "!ls -lart {params.MODEL_DIRECTORY}\n",
        "\n",
        "'''"
      ]
    }
  ],
  "metadata": {
    "colab": {
      "authorship_tag": "ABX9TyNakgWdfr0oHr8HQcRFOsFM",
      "collapsed_sections": [],
      "include_colab_link": true,
      "name": "load_deepweeds.ipynb",
      "provenance": []
    },
    "kernelspec": {
      "display_name": "Python 3",
      "name": "python3"
    },
    "language_info": {
      "name": "python"
    }
  },
  "nbformat": 4,
  "nbformat_minor": 0
}
