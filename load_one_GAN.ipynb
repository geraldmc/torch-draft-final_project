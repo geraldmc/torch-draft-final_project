{
  "nbformat": 4,
  "nbformat_minor": 0,
  "metadata": {
    "colab": {
      "name": "load_one_GAN.ipynb",
      "provenance": [],
      "collapsed_sections": [],
      "machine_shape": "hm"
    },
    "kernelspec": {
      "name": "python3",
      "display_name": "Python 3"
    },
    "language_info": {
      "name": "python"
    },
    "accelerator": "GPU",
    "widgets": {
      "application/vnd.jupyter.widget-state+json": {
        "26b3d8c9fb404034a6703dd2539d43d9": {
          "model_module": "@jupyter-widgets/controls",
          "model_name": "HBoxModel",
          "model_module_version": "1.5.0",
          "state": {
            "_dom_classes": [],
            "_model_module": "@jupyter-widgets/controls",
            "_model_module_version": "1.5.0",
            "_model_name": "HBoxModel",
            "_view_count": null,
            "_view_module": "@jupyter-widgets/controls",
            "_view_module_version": "1.5.0",
            "_view_name": "HBoxView",
            "box_style": "",
            "children": [
              "IPY_MODEL_a62107f43426444f86f95703f6718b48",
              "IPY_MODEL_be00bc710f07442baf8b8714bd46a785",
              "IPY_MODEL_ef82df5223874b11a41058008d870bab"
            ],
            "layout": "IPY_MODEL_7f765e2cd6b746a8a4b50717c5ccc9aa"
          }
        },
        "a62107f43426444f86f95703f6718b48": {
          "model_module": "@jupyter-widgets/controls",
          "model_name": "HTMLModel",
          "model_module_version": "1.5.0",
          "state": {
            "_dom_classes": [],
            "_model_module": "@jupyter-widgets/controls",
            "_model_module_version": "1.5.0",
            "_model_name": "HTMLModel",
            "_view_count": null,
            "_view_module": "@jupyter-widgets/controls",
            "_view_module_version": "1.5.0",
            "_view_name": "HTMLView",
            "description": "",
            "description_tooltip": null,
            "layout": "IPY_MODEL_1a12c53f4b7141738bdb9bec687fe5d6",
            "placeholder": "​",
            "style": "IPY_MODEL_e926f3912b60477b81cdd44886013b8f",
            "value": "100%"
          }
        },
        "be00bc710f07442baf8b8714bd46a785": {
          "model_module": "@jupyter-widgets/controls",
          "model_name": "FloatProgressModel",
          "model_module_version": "1.5.0",
          "state": {
            "_dom_classes": [],
            "_model_module": "@jupyter-widgets/controls",
            "_model_module_version": "1.5.0",
            "_model_name": "FloatProgressModel",
            "_view_count": null,
            "_view_module": "@jupyter-widgets/controls",
            "_view_module_version": "1.5.0",
            "_view_name": "ProgressView",
            "bar_style": "success",
            "description": "",
            "description_tooltip": null,
            "layout": "IPY_MODEL_4adfc3841ad740efb3113e4010f5df17",
            "max": 102530333,
            "min": 0,
            "orientation": "horizontal",
            "style": "IPY_MODEL_2d576c776fcb46c5926d906d423aa167",
            "value": 102530333
          }
        },
        "ef82df5223874b11a41058008d870bab": {
          "model_module": "@jupyter-widgets/controls",
          "model_name": "HTMLModel",
          "model_module_version": "1.5.0",
          "state": {
            "_dom_classes": [],
            "_model_module": "@jupyter-widgets/controls",
            "_model_module_version": "1.5.0",
            "_model_name": "HTMLModel",
            "_view_count": null,
            "_view_module": "@jupyter-widgets/controls",
            "_view_module_version": "1.5.0",
            "_view_name": "HTMLView",
            "description": "",
            "description_tooltip": null,
            "layout": "IPY_MODEL_e35ccc9b855149e6ba75e6217241615b",
            "placeholder": "​",
            "style": "IPY_MODEL_befd87f0d3e6439284cb0c6e24aef9a0",
            "value": " 97.8M/97.8M [00:00&lt;00:00, 208MB/s]"
          }
        },
        "7f765e2cd6b746a8a4b50717c5ccc9aa": {
          "model_module": "@jupyter-widgets/base",
          "model_name": "LayoutModel",
          "model_module_version": "1.2.0",
          "state": {
            "_model_module": "@jupyter-widgets/base",
            "_model_module_version": "1.2.0",
            "_model_name": "LayoutModel",
            "_view_count": null,
            "_view_module": "@jupyter-widgets/base",
            "_view_module_version": "1.2.0",
            "_view_name": "LayoutView",
            "align_content": null,
            "align_items": null,
            "align_self": null,
            "border": null,
            "bottom": null,
            "display": null,
            "flex": null,
            "flex_flow": null,
            "grid_area": null,
            "grid_auto_columns": null,
            "grid_auto_flow": null,
            "grid_auto_rows": null,
            "grid_column": null,
            "grid_gap": null,
            "grid_row": null,
            "grid_template_areas": null,
            "grid_template_columns": null,
            "grid_template_rows": null,
            "height": null,
            "justify_content": null,
            "justify_items": null,
            "left": null,
            "margin": null,
            "max_height": null,
            "max_width": null,
            "min_height": null,
            "min_width": null,
            "object_fit": null,
            "object_position": null,
            "order": null,
            "overflow": null,
            "overflow_x": null,
            "overflow_y": null,
            "padding": null,
            "right": null,
            "top": null,
            "visibility": null,
            "width": null
          }
        },
        "1a12c53f4b7141738bdb9bec687fe5d6": {
          "model_module": "@jupyter-widgets/base",
          "model_name": "LayoutModel",
          "model_module_version": "1.2.0",
          "state": {
            "_model_module": "@jupyter-widgets/base",
            "_model_module_version": "1.2.0",
            "_model_name": "LayoutModel",
            "_view_count": null,
            "_view_module": "@jupyter-widgets/base",
            "_view_module_version": "1.2.0",
            "_view_name": "LayoutView",
            "align_content": null,
            "align_items": null,
            "align_self": null,
            "border": null,
            "bottom": null,
            "display": null,
            "flex": null,
            "flex_flow": null,
            "grid_area": null,
            "grid_auto_columns": null,
            "grid_auto_flow": null,
            "grid_auto_rows": null,
            "grid_column": null,
            "grid_gap": null,
            "grid_row": null,
            "grid_template_areas": null,
            "grid_template_columns": null,
            "grid_template_rows": null,
            "height": null,
            "justify_content": null,
            "justify_items": null,
            "left": null,
            "margin": null,
            "max_height": null,
            "max_width": null,
            "min_height": null,
            "min_width": null,
            "object_fit": null,
            "object_position": null,
            "order": null,
            "overflow": null,
            "overflow_x": null,
            "overflow_y": null,
            "padding": null,
            "right": null,
            "top": null,
            "visibility": null,
            "width": null
          }
        },
        "e926f3912b60477b81cdd44886013b8f": {
          "model_module": "@jupyter-widgets/controls",
          "model_name": "DescriptionStyleModel",
          "model_module_version": "1.5.0",
          "state": {
            "_model_module": "@jupyter-widgets/controls",
            "_model_module_version": "1.5.0",
            "_model_name": "DescriptionStyleModel",
            "_view_count": null,
            "_view_module": "@jupyter-widgets/base",
            "_view_module_version": "1.2.0",
            "_view_name": "StyleView",
            "description_width": ""
          }
        },
        "4adfc3841ad740efb3113e4010f5df17": {
          "model_module": "@jupyter-widgets/base",
          "model_name": "LayoutModel",
          "model_module_version": "1.2.0",
          "state": {
            "_model_module": "@jupyter-widgets/base",
            "_model_module_version": "1.2.0",
            "_model_name": "LayoutModel",
            "_view_count": null,
            "_view_module": "@jupyter-widgets/base",
            "_view_module_version": "1.2.0",
            "_view_name": "LayoutView",
            "align_content": null,
            "align_items": null,
            "align_self": null,
            "border": null,
            "bottom": null,
            "display": null,
            "flex": null,
            "flex_flow": null,
            "grid_area": null,
            "grid_auto_columns": null,
            "grid_auto_flow": null,
            "grid_auto_rows": null,
            "grid_column": null,
            "grid_gap": null,
            "grid_row": null,
            "grid_template_areas": null,
            "grid_template_columns": null,
            "grid_template_rows": null,
            "height": null,
            "justify_content": null,
            "justify_items": null,
            "left": null,
            "margin": null,
            "max_height": null,
            "max_width": null,
            "min_height": null,
            "min_width": null,
            "object_fit": null,
            "object_position": null,
            "order": null,
            "overflow": null,
            "overflow_x": null,
            "overflow_y": null,
            "padding": null,
            "right": null,
            "top": null,
            "visibility": null,
            "width": null
          }
        },
        "2d576c776fcb46c5926d906d423aa167": {
          "model_module": "@jupyter-widgets/controls",
          "model_name": "ProgressStyleModel",
          "model_module_version": "1.5.0",
          "state": {
            "_model_module": "@jupyter-widgets/controls",
            "_model_module_version": "1.5.0",
            "_model_name": "ProgressStyleModel",
            "_view_count": null,
            "_view_module": "@jupyter-widgets/base",
            "_view_module_version": "1.2.0",
            "_view_name": "StyleView",
            "bar_color": null,
            "description_width": ""
          }
        },
        "e35ccc9b855149e6ba75e6217241615b": {
          "model_module": "@jupyter-widgets/base",
          "model_name": "LayoutModel",
          "model_module_version": "1.2.0",
          "state": {
            "_model_module": "@jupyter-widgets/base",
            "_model_module_version": "1.2.0",
            "_model_name": "LayoutModel",
            "_view_count": null,
            "_view_module": "@jupyter-widgets/base",
            "_view_module_version": "1.2.0",
            "_view_name": "LayoutView",
            "align_content": null,
            "align_items": null,
            "align_self": null,
            "border": null,
            "bottom": null,
            "display": null,
            "flex": null,
            "flex_flow": null,
            "grid_area": null,
            "grid_auto_columns": null,
            "grid_auto_flow": null,
            "grid_auto_rows": null,
            "grid_column": null,
            "grid_gap": null,
            "grid_row": null,
            "grid_template_areas": null,
            "grid_template_columns": null,
            "grid_template_rows": null,
            "height": null,
            "justify_content": null,
            "justify_items": null,
            "left": null,
            "margin": null,
            "max_height": null,
            "max_width": null,
            "min_height": null,
            "min_width": null,
            "object_fit": null,
            "object_position": null,
            "order": null,
            "overflow": null,
            "overflow_x": null,
            "overflow_y": null,
            "padding": null,
            "right": null,
            "top": null,
            "visibility": null,
            "width": null
          }
        },
        "befd87f0d3e6439284cb0c6e24aef9a0": {
          "model_module": "@jupyter-widgets/controls",
          "model_name": "DescriptionStyleModel",
          "model_module_version": "1.5.0",
          "state": {
            "_model_module": "@jupyter-widgets/controls",
            "_model_module_version": "1.5.0",
            "_model_name": "DescriptionStyleModel",
            "_view_count": null,
            "_view_module": "@jupyter-widgets/base",
            "_view_module_version": "1.2.0",
            "_view_name": "StyleView",
            "description_width": ""
          }
        }
      }
    }
  },
  "cells": [
    {
      "cell_type": "markdown",
      "source": [
        "### Define some args."
      ],
      "metadata": {
        "id": "y3YoUg1N0ayr"
      }
    },
    {
      "cell_type": "code",
      "source": [
        "import os\n",
        "\n",
        "DATA_PATH = 'data'\n",
        "\n",
        "GD_ZIP_IMG = '/content/gdrive/MyDrive/DL4CV-2022/project-II/data/images.zip'\n",
        "GD_ZIP_GAN = '/content/gdrive/MyDrive/DL4CV-2022/project-II/data/gans.zip'\n",
        "\n",
        "IMAGE_PATH = os.path.join(DATA_PATH, 'images')\n",
        "IMG_ZIP_FILE = os.path.join(DATA_PATH, 'images.zip')\n",
        "GAN_ZIP_FILE = os.path.join(DATA_PATH, 'gans.zip') # mohammed's GANs"
      ],
      "metadata": {
        "id": "QsWFLGGT0sW4"
      },
      "execution_count": 1,
      "outputs": []
    },
    {
      "cell_type": "markdown",
      "source": [
        "### Download code from Github."
      ],
      "metadata": {
        "id": "dFpUbq3o4FBa"
      }
    },
    {
      "cell_type": "code",
      "source": [
        "import os\n",
        "\n",
        "if os.path.isfile(\"../main.zip\"):\n",
        "  print ('Have already downloaded the project file, continuing...')\n",
        "  print()\n",
        "else:\n",
        "  print ('Downloading file...')\n",
        "  ! wget https://github.com/geraldmc/torch-draft-final_project/archive/refs/heads/main.zip\n",
        "  ! unzip -qq main.zip\n",
        "  %cd torch-draft-final_project-main"
      ],
      "metadata": {
        "colab": {
          "base_uri": "https://localhost:8080/"
        },
        "id": "dqWaNE530LUU",
        "outputId": "b92f01d4-bc16-479e-e9a5-db4e6a821088"
      },
      "execution_count": 2,
      "outputs": [
        {
          "output_type": "stream",
          "name": "stdout",
          "text": [
            "Downloading file...\n",
            "--2022-04-19 00:25:35--  https://github.com/geraldmc/torch-draft-final_project/archive/refs/heads/main.zip\n",
            "Resolving github.com (github.com)... 52.69.186.44\n",
            "Connecting to github.com (github.com)|52.69.186.44|:443... connected.\n",
            "HTTP request sent, awaiting response... 302 Found\n",
            "Location: https://codeload.github.com/geraldmc/torch-draft-final_project/zip/refs/heads/main [following]\n",
            "--2022-04-19 00:25:35--  https://codeload.github.com/geraldmc/torch-draft-final_project/zip/refs/heads/main\n",
            "Resolving codeload.github.com (codeload.github.com)... 52.68.31.213\n",
            "Connecting to codeload.github.com (codeload.github.com)|52.68.31.213|:443... connected.\n",
            "HTTP request sent, awaiting response... 200 OK\n",
            "Length: unspecified [application/zip]\n",
            "Saving to: ‘main.zip’\n",
            "\n",
            "main.zip                [  <=>               ] 965.21K  4.16MB/s    in 0.2s    \n",
            "\n",
            "2022-04-19 00:25:36 (4.16 MB/s) - ‘main.zip’ saved [988372]\n",
            "\n",
            "/content/torch-draft-final_project-main\n"
          ]
        }
      ]
    },
    {
      "cell_type": "code",
      "source": [
        "# Import local libs in a try block\n",
        "try:\n",
        "  import conf.params as params\n",
        "except ImportError:\n",
        "  pass"
      ],
      "metadata": {
        "id": "XpcjKRMQ0M_V"
      },
      "execution_count": 3,
      "outputs": []
    },
    {
      "cell_type": "markdown",
      "source": [
        "### Access Google Drive."
      ],
      "metadata": {
        "id": "BU_-HXvG4uo5"
      }
    },
    {
      "cell_type": "code",
      "source": [
        "from google.colab import drive\n",
        "\n",
        "drive.mount('/content/gdrive')\n",
        "print()\n",
        "print(\"Downloading DeepWeeds images to \" + IMG_ZIP_FILE)\n",
        "!cp '{GD_ZIP_IMG}' '{IMG_ZIP_FILE}'\n",
        "print()\n",
        "!ls -lart {IMG_ZIP_FILE}\n",
        "\n",
        "print()\n",
        "print(\"Downloading GAN images to \" + GAN_ZIP_FILE)\n",
        "!cp '{GD_ZIP_GAN}' '{GAN_ZIP_FILE}'\n",
        "print()\n",
        "!ls -lart {GAN_ZIP_FILE}"
      ],
      "metadata": {
        "colab": {
          "base_uri": "https://localhost:8080/"
        },
        "id": "HzYxNMSe0Rzs",
        "outputId": "78cea671-3cb5-47d1-c99d-0fe299ad0164"
      },
      "execution_count": 4,
      "outputs": [
        {
          "output_type": "stream",
          "name": "stdout",
          "text": [
            "Mounted at /content/gdrive\n",
            "\n",
            "Downloading DeepWeeds images to data/images.zip\n",
            "\n",
            "-rw------- 1 root root 491516047 Apr 19 00:26 data/images.zip\n",
            "\n",
            "Downloading GAN images to data/gans.zip\n",
            "\n",
            "-rw------- 1 root root 89648790 Apr 19 00:26 data/gans.zip\n"
          ]
        }
      ]
    },
    {
      "cell_type": "markdown",
      "source": [
        "### Unzip real and GAN images."
      ],
      "metadata": {
        "id": "lscBeWRw4lJW"
      }
    },
    {
      "cell_type": "code",
      "source": [
        "from zipfile import ZipFile\n",
        "\n",
        "print(\"Unzipping DeepWeeds images into \" + IMAGE_PATH)\n",
        "\n",
        "with ZipFile(IMG_ZIP_FILE, \"r\") as zip_ref:\n",
        "    zip_ref.extractall(IMAGE_PATH)\n",
        "\n",
        "img_list=os.listdir(IMAGE_PATH)\n",
        "print(len(img_list))\n",
        "\n",
        "print()\n",
        "print(\"Unzipping GAN image dirs into \" + DATA_PATH)\n",
        "\n",
        "with ZipFile(GAN_ZIP_FILE, \"r\") as zip_ref:\n",
        "    zip_ref.extractall(DATA_PATH)\n",
        "\n",
        "gan_dir_list=os.listdir(DATA_PATH+'/gans/train/0')\n",
        "print(len(gan_dir_list))"
      ],
      "metadata": {
        "colab": {
          "base_uri": "https://localhost:8080/"
        },
        "id": "zDee8V7r5NR1",
        "outputId": "8cbcb9b4-74e5-411a-ff63-d1d8b8513738"
      },
      "execution_count": 5,
      "outputs": [
        {
          "output_type": "stream",
          "name": "stdout",
          "text": [
            "Unzipping DeepWeeds images into data/images\n",
            "17510\n",
            "\n",
            "Unzipping GAN image dirs into data\n",
            "250\n"
          ]
        }
      ]
    },
    {
      "cell_type": "code",
      "source": [
        "gan_dir_list=os.listdir(DATA_PATH+'/gans/train/0')\n",
        "gan_dir_list[0:5]"
      ],
      "metadata": {
        "colab": {
          "base_uri": "https://localhost:8080/"
        },
        "id": "qzkjK5EpGl5l",
        "outputId": "3a0633eb-c15b-423d-cf10-d454ce030159"
      },
      "execution_count": 6,
      "outputs": [
        {
          "output_type": "execute_result",
          "data": {
            "text/plain": [
              "['100002.png', '8000022.png', '700009.png', '5000024.png', '300006.png']"
            ]
          },
          "metadata": {},
          "execution_count": 6
        }
      ]
    },
    {
      "cell_type": "markdown",
      "source": [
        "### Preprocess a single image to be run through ResNet50 model."
      ],
      "metadata": {
        "id": "-KjaUjnyMCG6"
      }
    },
    {
      "cell_type": "code",
      "source": [
        "# Sample load and execute\n",
        "from PIL import Image\n",
        "import torch\n",
        "from torchvision import transforms\n",
        "\n",
        "preprocess = transforms.Compose([\n",
        "    transforms.Resize(224),\n",
        "    transforms.ToTensor(),\n",
        "    transforms.Normalize(mean=[0.485, 0.456, 0.406], std=[0.229, 0.224, 0.225]),\n",
        "])\n",
        "\n",
        "def single_image_loader(img):\n",
        "    image = Image.open(img)\n",
        "    input_tensor = preprocess(image)\n",
        "    input_batch = input_tensor.unsqueeze(0) # creates a mini-batch.\n",
        "    if torch.cuda.is_available():\n",
        "        input_batch = input_batch.to('cuda')\n",
        "    return image, input_batch"
      ],
      "metadata": {
        "id": "m5tJWi1BH61v"
      },
      "execution_count": 7,
      "outputs": []
    },
    {
      "cell_type": "markdown",
      "source": [
        "### Instantiate pre-trained model and alter fully-connected layer."
      ],
      "metadata": {
        "id": "DgndKLyJMNiJ"
      }
    },
    {
      "cell_type": "code",
      "source": [
        "import torch\n",
        "resnet50_gan = torch.hub.load('pytorch/vision:v0.10.0', 'resnet50', pretrained=True)"
      ],
      "metadata": {
        "colab": {
          "base_uri": "https://localhost:8080/",
          "height": 84,
          "referenced_widgets": [
            "26b3d8c9fb404034a6703dd2539d43d9",
            "a62107f43426444f86f95703f6718b48",
            "be00bc710f07442baf8b8714bd46a785",
            "ef82df5223874b11a41058008d870bab",
            "7f765e2cd6b746a8a4b50717c5ccc9aa",
            "1a12c53f4b7141738bdb9bec687fe5d6",
            "e926f3912b60477b81cdd44886013b8f",
            "4adfc3841ad740efb3113e4010f5df17",
            "2d576c776fcb46c5926d906d423aa167",
            "e35ccc9b855149e6ba75e6217241615b",
            "befd87f0d3e6439284cb0c6e24aef9a0"
          ]
        },
        "id": "NZQjXZABJWt_",
        "outputId": "96cf8ffc-5a94-4351-fea8-0206a7d1d564"
      },
      "execution_count": 8,
      "outputs": [
        {
          "output_type": "stream",
          "name": "stderr",
          "text": [
            "Downloading: \"https://github.com/pytorch/vision/archive/v0.10.0.zip\" to /root/.cache/torch/hub/v0.10.0.zip\n",
            "Downloading: \"https://download.pytorch.org/models/resnet50-0676ba61.pth\" to /root/.cache/torch/hub/checkpoints/resnet50-0676ba61.pth\n"
          ]
        },
        {
          "output_type": "display_data",
          "data": {
            "text/plain": [
              "  0%|          | 0.00/97.8M [00:00<?, ?B/s]"
            ],
            "application/vnd.jupyter.widget-view+json": {
              "version_major": 2,
              "version_minor": 0,
              "model_id": "26b3d8c9fb404034a6703dd2539d43d9"
            }
          },
          "metadata": {}
        }
      ]
    },
    {
      "cell_type": "code",
      "source": [
        "import torch.nn as nn\n",
        "# What the number of input parameters going into the last fc layer?\n",
        "num_final_in = resnet50_gan.fc.in_features\n",
        "\n",
        "# The final layer of the model is [model].fc. We can overwrite this \n",
        "# to have the output = number of classes that we want. We want 9 classes.\n",
        "NUM_CLASSES = 9\n",
        "resnet50_gan.fc = nn.Linear(num_final_in, NUM_CLASSES)"
      ],
      "metadata": {
        "id": "MSOPlN9sLGmA"
      },
      "execution_count": 9,
      "outputs": []
    },
    {
      "cell_type": "markdown",
      "source": [
        "### Process GAN image to model and get a probability result. "
      ],
      "metadata": {
        "id": "HulR76GiMdim"
      }
    },
    {
      "cell_type": "code",
      "source": [
        "# move the input and model to GPU\n",
        "if torch.cuda.is_available():\n",
        "    resnet50_gan.to('cuda')\n",
        "\n",
        "filename = DATA_PATH +'/gans/train/0' + '/' + gan_dir_list[1]\n",
        "#!ls {filename}\n",
        "image, input_batch = single_image_loader(filename)\n",
        "display(image)\n",
        "\n",
        "with torch.no_grad():\n",
        "    output = resnet50_gan(input_batch)\n",
        "# Tensor of shape 1000, with confidence scores over Imagenet's 1000 classes\n",
        "# print(output[0]) # output has unnormalized scores\n",
        "# To get probabilities, you can run a softmax on it.\n",
        "probabilities = torch.nn.functional.softmax(output[0], dim=0)"
      ],
      "metadata": {
        "colab": {
          "base_uri": "https://localhost:8080/",
          "height": 145
        },
        "id": "plZuACmSLQpg",
        "outputId": "1c94ddd8-5e73-4bfe-87f5-3a39b7e8e8b6"
      },
      "execution_count": 10,
      "outputs": [
        {
          "output_type": "display_data",
          "data": {
            "text/plain": [
              "<PIL.PngImagePlugin.PngImageFile image mode=RGB size=128x128 at 0x7F0B16DCE790>"
            ],
            "image/png": "[encoded data removed]"
          },
          "metadata": {}
        }
      ]
    },
    {
      "cell_type": "code",
      "source": [
        "probabilities # probability of this image belonging to 0-9th class."
      ],
      "metadata": {
        "colab": {
          "base_uri": "https://localhost:8080/"
        },
        "id": "_KTX9-VTLdr8",
        "outputId": "a1668bae-b086-4a03-9a55-6a269079c9f6"
      },
      "execution_count": 11,
      "outputs": [
        {
          "output_type": "execute_result",
          "data": {
            "text/plain": [
              "tensor([0.1113, 0.1006, 0.1517, 0.1194, 0.0922, 0.1285, 0.0826, 0.1120, 0.1015],\n",
              "       device='cuda:0')"
            ]
          },
          "metadata": {},
          "execution_count": 11
        }
      ]
    }
  ]
}