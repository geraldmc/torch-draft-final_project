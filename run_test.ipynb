{
  "cells": [
    {
      "cell_type": "markdown",
      "metadata": {
        "colab_type": "text",
        "id": "view-in-github"
      },
      "source": [
        "<a href=\"https://colab.research.google.com/github/geraldmc/torch-draft-final_project/blob/main/load_deepweeds.ipynb\" target=\"_parent\"><img src=\"https://colab.research.google.com/assets/colab-badge.svg\" alt=\"Open In Colab\"/></a>"
      ]
    },
    {
      "cell_type": "markdown",
      "metadata": {},
      "source": [
        "## DeepWeeds TESTING"
      ]
    },
    {
      "cell_type": "code",
      "execution_count": null,
      "metadata": {},
      "outputs": [],
      "source": [
        "import os \n",
        "import os.path\n",
        "import pandas as pd\n",
        "import numpy as np\n",
        "import matplotlib.pyplot as plt\n",
        "\n",
        "import torch\n",
        "import torch.nn as nn\n",
        "import torch.optim as optim\n",
        "from torch.utils.data import Dataset, DataLoader\n",
        "\n",
        "import sklearn.metrics as sm\n",
        "from torchvision import transforms\n",
        "from PIL import Image"
      ]
    },
    {
      "cell_type": "markdown",
      "metadata": {},
      "source": [
        "## Steps For K-fold Test\n",
        "\n",
        "##### 0) Get files in order (mainly Colab-specific).\n",
        "\n",
        "    1) Get labels, instantiate data loaders.\n",
        "    2) Load the trained ResNet50 model, alter it.\n",
        "    3) Test the model. Save results.\n",
        "    4) REPEAT 1-4 for each fold."
      ]
    },
    {
      "cell_type": "markdown",
      "metadata": {},
      "source": [
        "### Get labels."
      ]
    },
    {
      "cell_type": "code",
      "execution_count": null,
      "metadata": {
        "colab": {
          "base_uri": "https://localhost:8080/"
        },
        "id": "EOQZnKZBtlMa",
        "outputId": "9c511545-0a56-40d7-c028-0c28fc9f33c3"
      },
      "outputs": [],
      "source": [
        "LABEL_PATH = os.path.join([path_to_label_dir], 'labels') # provide your path."
      ]
    },
    {
      "cell_type": "markdown",
      "metadata": {},
      "source": [
        "### Only one transform for testing."
      ]
    },
    {
      "cell_type": "code",
      "execution_count": null,
      "metadata": {},
      "outputs": [],
      "source": [
        "data_transforms = {\n",
        "    'default': transforms.Compose([\n",
        "        transforms.Resize(224),\n",
        "        transforms.ToTensor(),\n",
        "        transforms.Normalize(\n",
        "            [0.485, 0.456, 0.406], \n",
        "            [0.229, 0.224, 0.225])\n",
        "    ])\n",
        "}"
      ]
    },
    {
      "cell_type": "markdown",
      "metadata": {},
      "source": [
        "### Class to instantiate a test dataset, etc."
      ]
    },
    {
      "cell_type": "code",
      "execution_count": null,
      "metadata": {},
      "outputs": [],
      "source": [
        "# Dataset for Deepweeds testing\n",
        "\n",
        "class DeepWeeds_Test(Dataset):\n",
        "\n",
        "    def __init__(self, csv_file):\n",
        "        \"\"\"\n",
        "        \"\"\"\n",
        "        self.root = 'data/test/' # whatever your image file root is\n",
        "        self.csv_file = csv_file\n",
        "        self.transform = data_transforms['default']\n",
        "        \n",
        "        self.csv_data = pd.read_csv(self.csv_file)\n",
        "\n",
        "    def __len__(self):\n",
        "        return len(self.csv_data)\n",
        "\n",
        "    def __getitem__(self, idx):\n",
        "        img_path = os.path.join(self.root, self.csv_data.Filename[idx])\n",
        "        label = self.csv_data.Label[idx]\n",
        "        img = Image.open(img_path)\n",
        "\n",
        "        if self.transform is not None:\n",
        "            img = self.transform(img)\n",
        "\n",
        "        return img, label"
      ]
    },
    {
      "cell_type": "markdown",
      "metadata": {},
      "source": [
        "### Next three cells necessary to load and tweak a pre-trained ResNet-50 model"
      ]
    },
    {
      "cell_type": "code",
      "execution_count": null,
      "metadata": {},
      "outputs": [],
      "source": [
        "# This is here just to reset required before loading the model.\n",
        "\n",
        "def get_parameters(model, features):\n",
        "    '''  Only parameters that we've just initialized, i.e. the parameters with \n",
        "         requires_grad is True, are updated. (i.e. the last fc layer).\n",
        "    '''\n",
        "\n",
        "    params_to_update = model.parameters()\n",
        "\n",
        "    print(\"[INFO] Params to learn:\")\n",
        "    if features:\n",
        "        params_to_update = []\n",
        "        for name,param in model.named_parameters():\n",
        "            if param.requires_grad == True:\n",
        "                params_to_update.append(param)\n",
        "                print(\"\\t\",name)\n",
        "    else:\n",
        "        for name,param in model.named_parameters():\n",
        "            if param.requires_grad == True:\n",
        "                print(\"\\t\",name)\n",
        "    print()\n",
        "\n",
        "    # Observe that all parameters are optimized\n",
        "    # optimizer_ft = optim.SGD(params_to_update, lr=0.001, momentum=0.9)\n",
        "    opt = optim.Adam(params_to_update, lr=1e-3)\n",
        "    sch = optim.lr_scheduler.ReduceLROnPlateau(\n",
        "        opt, patience=16, factor=0.5, min_lr=0.00003125)\n",
        "\n",
        "    return opt, sch"
      ]
    },
    {
      "cell_type": "code",
      "execution_count": null,
      "metadata": {},
      "outputs": [],
      "source": [
        "# 3) Init a new ResNet50 model.\n",
        "\n",
        "def set_parameter_requires_grad(model, feature_extracting):\n",
        "    '''FIXME\n",
        "    '''\n",
        "    if feature_extracting:\n",
        "        for param in model.parameters():\n",
        "            param.requires_grad = False\n",
        "            \n",
        "def initialize_model(model_name, num_classes, feature_extract):\n",
        "    '''FIXME\n",
        "    '''\n",
        "     # Init a new ResNet50 model (called below)\n",
        "    model_ft = None\n",
        "    input_size = 0\n",
        "    if model_name == \"resnet50\":\n",
        "        \"\"\" Resnet50\n",
        "        \"\"\"\n",
        "        model_ft = torch.hub.load('pytorch/vision:v0.10.0', 'resnet50', pretrained=True)\n",
        "        set_parameter_requires_grad(model_ft, feature_extract)\n",
        "        num_ftrs = model_ft.fc.in_features\n",
        "        model_ft.fc = nn.Linear(num_ftrs, num_classes)\n",
        "        input_size = 224\n",
        "    else:\n",
        "        print(\"Invalid model name, exiting...\")\n",
        "        exit()\n",
        "\n",
        "    return model_ft, input_size\n",
        "\n",
        "def init_model():\n",
        "    '''FIXME\n",
        "    '''\n",
        "    model, input_size = initialize_model('resnet50', 9, \n",
        "                                            feature_extract=True)\n",
        "    if torch.cuda.is_available():\n",
        "        model.to('cuda') #IMPORTANT!\n",
        "    \n",
        "    return model, input_size"
      ]
    },
    {
      "cell_type": "code",
      "execution_count": null,
      "metadata": {},
      "outputs": [],
      "source": [
        "import numpy as np\n",
        "import pandas as pd\n",
        "\n",
        "'''\n",
        "TEST\n",
        "'''\n",
        "\n",
        "def test(test_loader, model):\n",
        "  model.eval()\n",
        "  correct = 0\n",
        "  targets, preds = [], []\n",
        "\n",
        "  with torch.no_grad():\n",
        "    for data, target in test_loader:\n",
        "      if torch.cuda.is_available():\n",
        "        data = data.cuda()\n",
        "        target = target.cuda()\n",
        "      output = model(data)\n",
        "      pred = output.max(1, keepdim=True)[1] # get the index of the max log-probability\n",
        "      correct += pred.eq(target.view_as(pred)).sum().item()\n",
        "\n",
        "      targets += list(target.cpu().numpy())\n",
        "      preds += list(pred.cpu().numpy())\n",
        "  \n",
        "  test_acc = 100. * correct / len(test_loader.dataset)\n",
        "  confusion_mtx = sm.confusion_matrix(targets, preds, normalize='all')\n",
        "\n",
        "  return test_acc, confusion_mtx"
      ]
    },
    {
      "cell_type": "code",
      "execution_count": null,
      "metadata": {},
      "outputs": [],
      "source": [
        "def run_test_kfold(model):\n",
        "  \n",
        "  metrics = {}\n",
        "\n",
        "  for idx in range(params.FOLDS):\n",
        "    test_label_file = \"{}/test_subset{}.csv\".format(LABEL_PATH, idx)\n",
        "    test_df = pd.read_csv(test_label_file)\n",
        "    #copy_test_files(test_df, params.IMG_TEST_PATH)\n",
        "\n",
        "    test_dataset = DeepWeeds_Test(test_label_file)\n",
        "    test_loader  = DataLoader(test_dataset, \n",
        "      batch_size=params.BATCH_SIZE, shuffle=False,\n",
        "      pin_memory=torch.cuda.is_available(), \n",
        "      num_workers=2)\n",
        "\n",
        "    # --- Get metrics for each fold.\n",
        "    metrics[idx] = test(test_loader, model)\n",
        "    # ---\n",
        "\n",
        "    #delete_test_files(params.IMG_TEST_PATH)\n",
        "    #cnt = len([name for name in os.listdir(params.IMG_TEST_PATH) \\\n",
        "    #          if os.path.isfile(os.path.join(params.IMG_TEST_PATH, name))])\n",
        "    #assert cnt == 0\n",
        "  \n",
        "  return metrics"
      ]
    },
    {
      "cell_type": "markdown",
      "metadata": {},
      "source": [
        "### Next cell will instantite the model ready to run. "
      ]
    },
    {
      "cell_type": "code",
      "execution_count": null,
      "metadata": {},
      "outputs": [],
      "source": [
        "def load_model(name):\n",
        "    '''FIXME\n",
        "    '''\n",
        "    model, input_size = init_model()\n",
        "    model.load_state_dict(torch.load(name))\n",
        "    return model"
      ]
    },
    {
      "cell_type": "markdown",
      "metadata": {},
      "source": [
        "### Load the model and test."
      ]
    },
    {
      "cell_type": "code",
      "execution_count": null,
      "metadata": {},
      "outputs": [],
      "source": [
        "filename = '20220426-074813_no_aug_model.pth' # must provide\n",
        "model = load_model(filename)\n",
        "print(\"Running test set with: \" + filename)\n",
        "\n",
        "results = run_test_kfold(model)"
      ]
    }
  ],
  "metadata": {
    "colab": {
      "authorship_tag": "ABX9TyNakgWdfr0oHr8HQcRFOsFM",
      "collapsed_sections": [],
      "include_colab_link": true,
      "name": "load_deepweeds.ipynb",
      "provenance": []
    },
    "kernelspec": {
      "display_name": "Python 3",
      "name": "python3"
    },
    "language_info": {
      "name": "python"
    }
  },
  "nbformat": 4,
  "nbformat_minor": 0
}
