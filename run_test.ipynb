{
  "cells": [
    {
      "cell_type": "markdown",
      "metadata": {
        "colab_type": "text",
        "id": "view-in-github"
      },
      "source": [
        "<a href=\"https://colab.research.google.com/github/geraldmc/torch-draft-final_project/blob/main/load_deepweeds.ipynb\" target=\"_parent\"><img src=\"https://colab.research.google.com/assets/colab-badge.svg\" alt=\"Open In Colab\"/></a>"
      ]
    },
    {
      "cell_type": "markdown",
      "metadata": {},
      "source": [
        "## DeepWeeds TESTING"
      ]
    },
    {
      "cell_type": "code",
      "execution_count": null,
      "metadata": {},
      "outputs": [],
      "source": [
        "import os \n",
        "import time\n",
        "from datetime import datetime\n",
        "import glob \n",
        "import shutil\n",
        "import copy\n",
        "from zipfile import ZipFile\n",
        "import pandas as pd\n",
        "import numpy as np\n",
        "import matplotlib.pyplot as plt\n",
        "\n",
        "import torch\n",
        "import torch.nn as nn\n",
        "import torch.optim as optim\n",
        "from torch.utils.data import Dataset, DataLoader, ConcatDataset\n",
        "from torch.utils.data import RandomSampler, random_split\n",
        "from torch.utils.data import SubsetRandomSampler, WeightedRandomSampler\n",
        "from torchvision.datasets import ImageFolder"
      ]
    },
    {
      "cell_type": "markdown",
      "metadata": {
        "id": "2pbxKpG6s9vK"
      },
      "source": [
        "### Download code from Github"
      ]
    },
    {
      "cell_type": "code",
      "execution_count": null,
      "metadata": {
        "colab": {
          "base_uri": "https://localhost:8080/"
        },
        "id": "0YZMmT0PtCog",
        "outputId": "7b990a66-048a-4e99-b36f-53e6b6171540"
      },
      "outputs": [],
      "source": [
        "if os.path.isfile(\"../main.zip\"):\n",
        "  print ('Have already downloaded the project file, continuing...')\n",
        "  print()\n",
        "else:\n",
        "  print ('Downloading file...')\n",
        "  ! wget https://github.com/geraldmc/torch-draft-final_project/archive/refs/heads/main.zip\n",
        "  ! unzip -qq main.zip\n",
        "  %cd torch-draft-final_project-main"
      ]
    },
    {
      "cell_type": "markdown",
      "metadata": {},
      "source": [
        "### Import Github project."
      ]
    },
    {
      "cell_type": "code",
      "execution_count": null,
      "metadata": {},
      "outputs": [],
      "source": [
        "try:\n",
        "  import conf.params as params\n",
        "  from data import transforms as tsf\n",
        "  from data import test_loader\n",
        "except ImportError:\n",
        "  pass"
      ]
    },
    {
      "cell_type": "markdown",
      "metadata": {
        "id": "kVFrg7wPtJnj"
      },
      "source": [
        "### Download dataset from G Drive."
      ]
    },
    {
      "cell_type": "code",
      "execution_count": null,
      "metadata": {
        "colab": {
          "base_uri": "https://localhost:8080/"
        },
        "id": "BTiLUTS_tUYp",
        "outputId": "bc228ab8-39b0-4f19-a12c-d8f1ee348aa7"
      },
      "outputs": [],
      "source": [
        "from google.colab import drive\n",
        "\n",
        "drive.mount('/content/gdrive')\n",
        "print()\n",
        "print(\"Downloading DeepWeeds images to \" + params.IMG_ZIP_FILE)\n",
        "!cp '{params.GD_ZIP_IMG}' '{params.IMG_ZIP_FILE}'\n",
        "print()\n",
        "!ls -lart {params.IMG_ZIP_FILE}\n",
        "\n",
        "print()\n",
        "print(\"Downloading GAN images to \" + params.GAN_ZIP_FILE)\n",
        "!cp '{params.GD_ZIP_GAN}' '{params.GAN_ZIP_FILE}'\n",
        "print()\n",
        "!ls -lart {params.GAN_ZIP_FILE}"
      ]
    },
    {
      "cell_type": "markdown",
      "metadata": {},
      "source": [
        "### Unzip the data files."
      ]
    },
    {
      "cell_type": "code",
      "execution_count": null,
      "metadata": {},
      "outputs": [],
      "source": [
        "print(\"[INFO] Unzipping DeepWeeds images into \" +  params.IMG_DIRECTORY)\n",
        "\n",
        "with ZipFile(params.IMG_ZIP_FILE, \"r\") as zip_ref:\n",
        "    zip_ref.extractall(params.IMG_DIRECTORY)\n",
        "\n",
        "img_list=os.listdir(params.IMG_DIRECTORY)\n",
        "print(len(img_list))\n",
        "\n",
        "print()\n",
        "print(\"[INFO] Unzipping GAN image dirs into \" + params.DATA_PATH)\n",
        "\n",
        "with ZipFile(params.GAN_ZIP_FILE, \"r\") as zip_ref:\n",
        "    zip_ref.extractall(params.DATA_PATH)\n",
        "\n",
        "gan_dir_list=os.listdir(params.DATA_PATH+'/gans/train/0')\n",
        "print(len(gan_dir_list))"
      ]
    },
    {
      "cell_type": "markdown",
      "metadata": {},
      "source": [
        "### Get the labels."
      ]
    },
    {
      "cell_type": "code",
      "execution_count": null,
      "metadata": {
        "colab": {
          "base_uri": "https://localhost:8080/"
        },
        "id": "EOQZnKZBtlMa",
        "outputId": "9c511545-0a56-40d7-c028-0c28fc9f33c3"
      },
      "outputs": [],
      "source": [
        "LABEL_PATH = os.path.join(params.DATA_PATH, 'labels')\n",
        "label_df = pd.read_csv(os.path.join(LABEL_PATH, 'labels.csv'))\n",
        "None"
      ]
    },
    {
      "cell_type": "markdown",
      "metadata": {},
      "source": [
        "## Steps For Test\n",
        "\n",
        "##### 0) Get files in order (mainly Colab-specific).\n",
        "\n",
        "    1) Copy files to single directory (not using ImageFolder).\n",
        "    2) Instantiate data loaders.\n",
        "    3) Load the trained ResNet50 model.\n",
        "    4) Test the model. Save the best model.\n",
        "    5) Delete contents of the test directory.\n",
        "    7) REPEAT 1-5."
      ]
    },
    {
      "cell_type": "markdown",
      "metadata": {},
      "source": [
        "### 1) Supporting functions.\n"
      ]
    },
    {
      "cell_type": "code",
      "execution_count": null,
      "metadata": {},
      "outputs": [],
      "source": [
        "# 1) Functions to copy test files.\n",
        "\n",
        "def get_file_list():\n",
        "    files = []\n",
        "    for dirpath, dirnames, filenames in os.walk(params.IMAGE_PATH):\n",
        "        for file in filenames:\n",
        "            files.append(file)\n",
        "    return files\n",
        "\n",
        "def copy_test_files(df, filepath):\n",
        "  for f in df.Filename:\n",
        "      try:\n",
        "          src = os.path.join(params.IMG_DIRECTORY, f)\n",
        "          #print(src)\n",
        "          dst = os.path.join(filepath, f)\n",
        "          shutil.copyfile(src, dst)\n",
        "          #print (dst)\n",
        "      except KeyError:\n",
        "          pass\n",
        "\n",
        "def delete_test_files(path):\n",
        "  for file_name in os.listdir(params.IMG_TEST_PATH):\n",
        "    file = os.path.join(path, file_name)\n",
        "    if os.path.isfile(file):\n",
        "      os.remove(file)\n",
        "\n",
        "# EXECUTE -------\n",
        "for idx in range(params.FOLDS):\n",
        "  test_label_file = \"{}/test_subset{}.csv\".format(LABEL_PATH, idx)\n",
        "  test_df = pd.read_csv(test_label_file)\n",
        "  copy_test_files(test_df, params.IMG_TEST_PATH)\n",
        "  #--------------\n",
        "  #\n",
        "  #. DO YOUR THING....\n",
        "  #\n",
        "  #--------------\n",
        "  delete_test_files(params.IMG_TEST_PATH)\n",
        "  cnt = len([name for name in os.listdir(params.IMG_TEST_PATH) \\\n",
        "             if os.path.isfile(os.path.join(params.IMG_TEST_PATH, name))])\n",
        "  assert cnt == 0"
      ]
    },
    {
      "cell_type": "markdown",
      "metadata": {},
      "source": [
        "### Load a model to test."
      ]
    },
    {
      "cell_type": "code",
      "execution_count": null,
      "metadata": {},
      "outputs": [],
      "source": [
        "def load_model(name):\n",
        "    model.load_state_dict(torch.load(params.OUTPUT_PATH+name))\n",
        "    return model\n",
        "    \n",
        "def checkpoint(epoch, nn, opt, LOSS, MODEL_PATH ):\n",
        "    torch.save({\n",
        "                'epoch': EPOCH,\n",
        "                'model_state_dict': nn.state_dict(),\n",
        "                'optimizer_state_dict': optimizer.state_dict(),\n",
        "                'loss': LOSS,\n",
        "                }, MODEL_PATH)\n",
        "\n",
        "def print_states(m, opt):\n",
        "    # Print the model's state_dict\n",
        "    print(\"Model's state_dict:\")\n",
        "    for param_tensor in m.state_dict():\n",
        "        print(param_tensor, \"\\t\", m.state_dict()[param_tensor].size())\n",
        "\n",
        "    # Print optimizer's state_dict\n",
        "    print(\"Optimizer's state_dict:\")\n",
        "    for var_name in opt.state_dict():\n",
        "        print(var_name, \"\\t\", opt.state_dict()[var_name])"
      ]
    },
    {
      "cell_type": "code",
      "execution_count": null,
      "metadata": {},
      "outputs": [],
      "source": [
        "''' GUTTER ------ \n",
        "'''"
      ]
    }
  ],
  "metadata": {
    "colab": {
      "authorship_tag": "ABX9TyNakgWdfr0oHr8HQcRFOsFM",
      "collapsed_sections": [],
      "include_colab_link": true,
      "name": "load_deepweeds.ipynb",
      "provenance": []
    },
    "kernelspec": {
      "display_name": "Python 3",
      "name": "python3"
    },
    "language_info": {
      "name": "python"
    }
  },
  "nbformat": 4,
  "nbformat_minor": 0
}
