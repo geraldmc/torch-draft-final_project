{
  "cells": [
    {
      "cell_type": "markdown",
      "metadata": {
        "colab_type": "text",
        "id": "view-in-github"
      },
      "source": [
        "<a href=\"https://colab.research.google.com/github/geraldmc/torch-draft-final_project/blob/main/load_deepweeds.ipynb\" target=\"_parent\"><img src=\"https://colab.research.google.com/assets/colab-badge.svg\" alt=\"Open In Colab\"/></a>"
      ]
    },
    {
      "cell_type": "markdown",
      "metadata": {
        "id": "6wPyFhD6s3Zc"
      },
      "source": [
        "## Welcome to **[This Project ...](https://)**\n",
        "\n",
        "This notebook is associated with the project submission of MOHAMMED RASHED and GERALD MCCOLLAM and for the class `EN.525.733.8VL.SP22 Deep Learning for Computer Vision`. Our semester project is [Weed Object Detection](https://).\n",
        "\n",
        "<hr>"
      ]
    },
    {
      "cell_type": "markdown",
      "metadata": {
        "id": "2pbxKpG6s9vK"
      },
      "source": [
        "### Download the code from Github"
      ]
    },
    {
      "cell_type": "code",
      "execution_count": 1,
      "metadata": {
        "colab": {
          "base_uri": "https://localhost:8080/"
        },
        "id": "0YZMmT0PtCog",
        "outputId": "7b990a66-048a-4e99-b36f-53e6b6171540"
      },
      "outputs": [
        {
          "name": "stdout",
          "output_type": "stream",
          "text": [
            "Downloading file...\n",
            "--2022-03-29 22:06:09--  https://github.com/geraldmc/torch-draft-final_project/archive/refs/heads/main.zip\n",
            "Resolving github.com (github.com)... 52.192.72.89\n",
            "Connecting to github.com (github.com)|52.192.72.89|:443... connected.\n",
            "HTTP request sent, awaiting response... 302 Found\n",
            "Location: https://codeload.github.com/geraldmc/torch-draft-final_project/zip/refs/heads/main [following]\n",
            "--2022-03-29 22:06:09--  https://codeload.github.com/geraldmc/torch-draft-final_project/zip/refs/heads/main\n",
            "Resolving codeload.github.com (codeload.github.com)... 52.193.111.178\n",
            "Connecting to codeload.github.com (codeload.github.com)|52.193.111.178|:443... connected.\n",
            "HTTP request sent, awaiting response... 200 OK\n",
            "Length: unspecified [application/zip]\n",
            "Saving to: ‘main.zip’\n",
            "\n",
            "main.zip                [ <=>                ] 526.76K  2.65MB/s    in 0.2s    \n",
            "\n",
            "2022-03-29 22:06:11 (2.65 MB/s) - ‘main.zip’ saved [539403]\n",
            "\n",
            "/content/torch-draft-final_project-main\n"
          ]
        }
      ],
      "source": [
        "import os\n",
        "\n",
        "if os.path.isfile(\"../main.zip\"):\n",
        "  print ('Have already downloaded the project file, continuing...')\n",
        "  print()\n",
        "else:\n",
        "  print ('Downloading file...')\n",
        "  ! wget https://github.com/geraldmc/torch-draft-final_project/archive/refs/heads/main.zip\n",
        "  ! unzip -qq main.zip\n",
        "  %cd torch-draft-final_project-main"
      ]
    },
    {
      "cell_type": "markdown",
      "metadata": {},
      "source": [
        "### Try and import the project."
      ]
    },
    {
      "cell_type": "code",
      "execution_count": null,
      "metadata": {},
      "outputs": [],
      "source": [
        "try:\n",
        "  import conf.params as params\n",
        "except ImportError:\n",
        "  pass"
      ]
    },
    {
      "cell_type": "markdown",
      "metadata": {
        "id": "kVFrg7wPtJnj"
      },
      "source": [
        "### Download the dataset from Google Drive"
      ]
    },
    {
      "cell_type": "markdown",
      "metadata": {
        "id": "f0m5cds_tPVd"
      },
      "source": [
        "The project dataset and models are available on the DeepWeeds Github. There are two options for getting these into our Colab Notebook environment (this uses the first).\n",
        "\n",
        "* Download from Github as two zipped files ([dataset link here](https://drive.google.com/file/d/1xnK3B6K6KekDI55vwJ0vnc2IGoDga9cj), [models file link here](https://drive.google.com/file/d/1MRbN5hXOTYnw7-71K-2vjY01uJ9GkQM5)) and upload these to Google Drive, then mount Google Drive on Colab to access the uploaded dataset and models. \n",
        "* Use the [Drive API](https://) to download the dataset and models into the Colab Notebook. "
      ]
    },
    {
      "cell_type": "code",
      "execution_count": 3,
      "metadata": {
        "colab": {
          "base_uri": "https://localhost:8080/"
        },
        "id": "BTiLUTS_tUYp",
        "outputId": "bc228ab8-39b0-4f19-a12c-d8f1ee348aa7"
      },
      "outputs": [
        {
          "name": "stdout",
          "output_type": "stream",
          "text": [
            "Mounted at /content/gdrive\n",
            "Downloading DeepWeeds images to /content/torch-draft-final_project-main/data/images.zip\n",
            "\n",
            "-rw------- 1 root root 491516047 Mar 29 22:07 /content/torch-draft-final_project-main/data/images.zip\n"
          ]
        }
      ],
      "source": [
        "from google.colab import drive\n",
        "\n",
        "drive.mount('/content/gdrive')\n",
        "print(\"Downloading DeepWeeds images to \" + params.IMG_ZIP_FILE)\n",
        "!cp '{params.GD_ZIP_IMG}' '{params.IMG_ZIP_FILE}'\n",
        "print()\n",
        "!ls -lart {params.IMG_ZIP_FILE}"
      ]
    },
    {
      "cell_type": "markdown",
      "metadata": {},
      "source": [
        "### Unzip the data files into place."
      ]
    },
    {
      "cell_type": "code",
      "execution_count": null,
      "metadata": {},
      "outputs": [],
      "source": [
        "from zipfile import ZipFile\n",
        "\n",
        "print(\"Unzipping DeepWeeds images into \" + params.IMG_DIRECTORY)\n",
        "\n",
        "with ZipFile(params.IMG_ZIP_FILE, \"r\") as zip_ref:\n",
        "    zip_ref.extractall(params.IMG_DIRECTORY)\n",
        "\n",
        "img_list=os.listdir(params.IMG_DIRECTORY)\n",
        "print(len(img_list))"
      ]
    },
    {
      "cell_type": "markdown",
      "metadata": {},
      "source": [
        "### We use a pre-trained Resnet-50 model. What is that?"
      ]
    },
    {
      "cell_type": "markdown",
      "metadata": {},
      "source": [
        "### Imagenet-trained resnet50 model for Pytorch.\n",
        "\n",
        "*Author: Pytorch Team*\n",
        "\n",
        "**Deep residual networks pre-trained on ImageNet**\n",
        "\n",
        "<img src=\"https://pytorch.org/assets/images/resnet.png\" alt=\"alt\" width=\"50%\"/>\n",
        "\n",
        "Pre-trained models expect input images normalized in the same way, i.e. mini-batches of 3-channel RGB images of shape (3 x H x W), where H and W are expected to be at least 224. The images have to be loaded in to a range of [0, 1] then normalized using mean = [0.485, 0.456, 0.406] and std = [0.229, 0.224, 0.225]."
      ]
    },
    {
      "cell_type": "markdown",
      "metadata": {
        "id": "5whn20U8tibV"
      },
      "source": [
        "### Get the Labels"
      ]
    },
    {
      "cell_type": "code",
      "execution_count": 7,
      "metadata": {
        "colab": {
          "base_uri": "https://localhost:8080/"
        },
        "id": "EOQZnKZBtlMa",
        "outputId": "9c511545-0a56-40d7-c028-0c28fc9f33c3"
      },
      "outputs": [
        {
          "name": "stdout",
          "output_type": "stream",
          "text": [
            "labels.csv\t  test_subset3.csv   train_subset2.csv\tval_subset1.csv\n",
            "test_subset0.csv  test_subset4.csv   train_subset3.csv\tval_subset2.csv\n",
            "test_subset1.csv  train_subset0.csv  train_subset4.csv\tval_subset3.csv\n",
            "test_subset2.csv  train_subset1.csv  val_subset0.csv\tval_subset4.csv\n"
          ]
        }
      ],
      "source": [
        "LABEL_PATH = os.path.join(params.DATA_PATH, 'labels')\n",
        "!ls {LABEL_PATH}"
      ]
    },
    {
      "cell_type": "code",
      "execution_count": 8,
      "metadata": {
        "colab": {
          "base_uri": "https://localhost:8080/",
          "height": 423
        },
        "id": "PtvfSeV6tnPH",
        "outputId": "28d92917-e19d-4f23-d595-497ee7fbc5f2"
      },
      "outputs": [
        {
          "data": {
            "text/html": [
              "\n",
              "  <div id=\"df-72201892-a301-4c36-85a1-0e19b0f33905\">\n",
              "    <div class=\"colab-df-container\">\n",
              "      <div>\n",
              "<style scoped>\n",
              "    .dataframe tbody tr th:only-of-type {\n",
              "        vertical-align: middle;\n",
              "    }\n",
              "\n",
              "    .dataframe tbody tr th {\n",
              "        vertical-align: top;\n",
              "    }\n",
              "\n",
              "    .dataframe thead th {\n",
              "        text-align: right;\n",
              "    }\n",
              "</style>\n",
              "<table border=\"1\" class=\"dataframe\">\n",
              "  <thead>\n",
              "    <tr style=\"text-align: right;\">\n",
              "      <th></th>\n",
              "      <th>Filename</th>\n",
              "      <th>Label</th>\n",
              "      <th>Species</th>\n",
              "    </tr>\n",
              "  </thead>\n",
              "  <tbody>\n",
              "    <tr>\n",
              "      <th>0</th>\n",
              "      <td>20160928-140314-0.jpg</td>\n",
              "      <td>0</td>\n",
              "      <td>Chinee apple</td>\n",
              "    </tr>\n",
              "    <tr>\n",
              "      <th>1</th>\n",
              "      <td>20160928-140337-0.jpg</td>\n",
              "      <td>0</td>\n",
              "      <td>Chinee apple</td>\n",
              "    </tr>\n",
              "    <tr>\n",
              "      <th>2</th>\n",
              "      <td>20160928-140731-0.jpg</td>\n",
              "      <td>0</td>\n",
              "      <td>Chinee apple</td>\n",
              "    </tr>\n",
              "    <tr>\n",
              "      <th>3</th>\n",
              "      <td>20160928-140747-0.jpg</td>\n",
              "      <td>0</td>\n",
              "      <td>Chinee apple</td>\n",
              "    </tr>\n",
              "    <tr>\n",
              "      <th>4</th>\n",
              "      <td>20160928-141107-0.jpg</td>\n",
              "      <td>0</td>\n",
              "      <td>Chinee apple</td>\n",
              "    </tr>\n",
              "    <tr>\n",
              "      <th>...</th>\n",
              "      <td>...</td>\n",
              "      <td>...</td>\n",
              "      <td>...</td>\n",
              "    </tr>\n",
              "    <tr>\n",
              "      <th>17504</th>\n",
              "      <td>20180322-133822-1.jpg</td>\n",
              "      <td>8</td>\n",
              "      <td>Negative</td>\n",
              "    </tr>\n",
              "    <tr>\n",
              "      <th>17505</th>\n",
              "      <td>20180322-133832-1.jpg</td>\n",
              "      <td>8</td>\n",
              "      <td>Negative</td>\n",
              "    </tr>\n",
              "    <tr>\n",
              "      <th>17506</th>\n",
              "      <td>20180322-133840-1.jpg</td>\n",
              "      <td>8</td>\n",
              "      <td>Negative</td>\n",
              "    </tr>\n",
              "    <tr>\n",
              "      <th>17507</th>\n",
              "      <td>20180322-133850-1.jpg</td>\n",
              "      <td>8</td>\n",
              "      <td>Negative</td>\n",
              "    </tr>\n",
              "    <tr>\n",
              "      <th>17508</th>\n",
              "      <td>20180322-133901-1.jpg</td>\n",
              "      <td>8</td>\n",
              "      <td>Negative</td>\n",
              "    </tr>\n",
              "  </tbody>\n",
              "</table>\n",
              "<p>17509 rows × 3 columns</p>\n",
              "</div>\n",
              "      <button class=\"colab-df-convert\" onclick=\"convertToInteractive('df-72201892-a301-4c36-85a1-0e19b0f33905')\"\n",
              "              title=\"Convert this dataframe to an interactive table.\"\n",
              "              style=\"display:none;\">\n",
              "        \n",
              "  <svg xmlns=\"http://www.w3.org/2000/svg\" height=\"24px\"viewBox=\"0 0 24 24\"\n",
              "       width=\"24px\">\n",
              "    <path d=\"M0 0h24v24H0V0z\" fill=\"none\"/>\n",
              "    <path d=\"M18.56 5.44l.94 2.06.94-2.06 2.06-.94-2.06-.94-.94-2.06-.94 2.06-2.06.94zm-11 1L8.5 8.5l.94-2.06 2.06-.94-2.06-.94L8.5 2.5l-.94 2.06-2.06.94zm10 10l.94 2.06.94-2.06 2.06-.94-2.06-.94-.94-2.06-.94 2.06-2.06.94z\"/><path d=\"M17.41 7.96l-1.37-1.37c-.4-.4-.92-.59-1.43-.59-.52 0-1.04.2-1.43.59L10.3 9.45l-7.72 7.72c-.78.78-.78 2.05 0 2.83L4 21.41c.39.39.9.59 1.41.59.51 0 1.02-.2 1.41-.59l7.78-7.78 2.81-2.81c.8-.78.8-2.07 0-2.86zM5.41 20L4 18.59l7.72-7.72 1.47 1.35L5.41 20z\"/>\n",
              "  </svg>\n",
              "      </button>\n",
              "      \n",
              "  <style>\n",
              "    .colab-df-container {\n",
              "      display:flex;\n",
              "      flex-wrap:wrap;\n",
              "      gap: 12px;\n",
              "    }\n",
              "\n",
              "    .colab-df-convert {\n",
              "      background-color: #E8F0FE;\n",
              "      border: none;\n",
              "      border-radius: 50%;\n",
              "      cursor: pointer;\n",
              "      display: none;\n",
              "      fill: #1967D2;\n",
              "      height: 32px;\n",
              "      padding: 0 0 0 0;\n",
              "      width: 32px;\n",
              "    }\n",
              "\n",
              "    .colab-df-convert:hover {\n",
              "      background-color: #E2EBFA;\n",
              "      box-shadow: 0px 1px 2px rgba(60, 64, 67, 0.3), 0px 1px 3px 1px rgba(60, 64, 67, 0.15);\n",
              "      fill: #174EA6;\n",
              "    }\n",
              "\n",
              "    [theme=dark] .colab-df-convert {\n",
              "      background-color: #3B4455;\n",
              "      fill: #D2E3FC;\n",
              "    }\n",
              "\n",
              "    [theme=dark] .colab-df-convert:hover {\n",
              "      background-color: #434B5C;\n",
              "      box-shadow: 0px 1px 3px 1px rgba(0, 0, 0, 0.15);\n",
              "      filter: drop-shadow(0px 1px 2px rgba(0, 0, 0, 0.3));\n",
              "      fill: #FFFFFF;\n",
              "    }\n",
              "  </style>\n",
              "\n",
              "      <script>\n",
              "        const buttonEl =\n",
              "          document.querySelector('#df-72201892-a301-4c36-85a1-0e19b0f33905 button.colab-df-convert');\n",
              "        buttonEl.style.display =\n",
              "          google.colab.kernel.accessAllowed ? 'block' : 'none';\n",
              "\n",
              "        async function convertToInteractive(key) {\n",
              "          const element = document.querySelector('#df-72201892-a301-4c36-85a1-0e19b0f33905');\n",
              "          const dataTable =\n",
              "            await google.colab.kernel.invokeFunction('convertToInteractive',\n",
              "                                                     [key], {});\n",
              "          if (!dataTable) return;\n",
              "\n",
              "          const docLinkHtml = 'Like what you see? Visit the ' +\n",
              "            '<a target=\"_blank\" href=https://colab.research.google.com/notebooks/data_table.ipynb>data table notebook</a>'\n",
              "            + ' to learn more about interactive tables.';\n",
              "          element.innerHTML = '';\n",
              "          dataTable['output_type'] = 'display_data';\n",
              "          await google.colab.output.renderOutput(dataTable, element);\n",
              "          const docLink = document.createElement('div');\n",
              "          docLink.innerHTML = docLinkHtml;\n",
              "          element.appendChild(docLink);\n",
              "        }\n",
              "      </script>\n",
              "    </div>\n",
              "  </div>\n",
              "  "
            ],
            "text/plain": [
              "                    Filename  Label       Species\n",
              "0      20160928-140314-0.jpg      0  Chinee apple\n",
              "1      20160928-140337-0.jpg      0  Chinee apple\n",
              "2      20160928-140731-0.jpg      0  Chinee apple\n",
              "3      20160928-140747-0.jpg      0  Chinee apple\n",
              "4      20160928-141107-0.jpg      0  Chinee apple\n",
              "...                      ...    ...           ...\n",
              "17504  20180322-133822-1.jpg      8      Negative\n",
              "17505  20180322-133832-1.jpg      8      Negative\n",
              "17506  20180322-133840-1.jpg      8      Negative\n",
              "17507  20180322-133850-1.jpg      8      Negative\n",
              "17508  20180322-133901-1.jpg      8      Negative\n",
              "\n",
              "[17509 rows x 3 columns]"
            ]
          },
          "execution_count": 8,
          "metadata": {},
          "output_type": "execute_result"
        }
      ],
      "source": [
        "import pandas as pd\n",
        "label_df = pd.read_csv(os.path.join(LABEL_PATH, 'labels.csv'))"
      ]
    },
    {
      "cell_type": "markdown",
      "metadata": {},
      "source": [
        "### Note the unusual class distribution between weed and non-weed."
      ]
    },
    {
      "cell_type": "code",
      "execution_count": 10,
      "metadata": {
        "colab": {
          "base_uri": "https://localhost:8080/",
          "height": 279
        },
        "id": "4iY00m4ItrjJ",
        "outputId": "79289991-00db-4560-973a-77b07395b2f6"
      },
      "outputs": [
        {
          "data": {
            "image/png": "[encoded data removed]",
            "text/plain": [
              "<Figure size 432x288 with 1 Axes>"
            ]
          },
          "metadata": {
            "needs_background": "light"
          },
          "output_type": "display_data"
        }
      ],
      "source": [
        "import matplotlib.pyplot as plt\n",
        "import seaborn as sns\n",
        "sns.histplot(label_df['Label'], bins=8, discrete=True, color=\"cadetblue\")\n",
        "None"
      ]
    },
    {
      "cell_type": "markdown",
      "metadata": {},
      "source": [
        "## To run k-folds on the data, as paper does, the following steps are required:"
      ]
    },
    {
      "cell_type": "markdown",
      "metadata": {},
      "source": [
        "### 1) Combine all train, test, val files, and random sample from the combined dataframes."
      ]
    },
    {
      "cell_type": "code",
      "execution_count": null,
      "metadata": {},
      "outputs": [],
      "source": [
        "import glob \n",
        "\n",
        "joined_val = os.path.join(\"data/\", \"labels/\", \"val*.csv\")\n",
        "joined_train = os.path.join(\"data/\", \"labels/\", \"train*.csv\")\n",
        "joined_test = os.path.join(\"data/\", \"labels/\", \"test*.csv\")\n",
        "\n",
        "val_files = glob.glob(joined_val)\n",
        "train_files = glob.glob(joined_train)\n",
        "test_files = glob.glob(joined_test)\n",
        "\n",
        "train_df = pd.concat(map(pd.read_csv, train_files), ignore_index=True)\n",
        "val_df = pd.concat(map(pd.read_csv, val_files), ignore_index=True)\n",
        "test_df = pd.concat(map(pd.read_csv, test_files), ignore_index=True)\n",
        "\n",
        "# In the paper, each fold contains 10,505 samples from the total\n",
        "def sample_data(train_sample_no, val_sample_no, test_sample_no): \n",
        "    train = train_df.sample(n=train_sample_no)\n",
        "    val = val_df.sample(n=val_sample_no)\n",
        "    test = test_df.sample(n=test_sample_no)\n",
        "    return train, val, test"
      ]
    },
    {
      "cell_type": "markdown",
      "metadata": {},
      "source": [
        "### 2) Copy files to their respective directories, for ImageFolder."
      ]
    },
    {
      "cell_type": "code",
      "execution_count": null,
      "metadata": {},
      "outputs": [],
      "source": [
        "import shutil\n",
        "\n",
        "files = []\n",
        "for dirpath, dirnames, filenames in os.walk(params.IMAGE_PATH):\n",
        "    for file in filenames:\n",
        "        files.append(file)\n",
        "\n",
        "def copy_files(df, filepath):\n",
        "\n",
        "  labels = dict(zip(df.Filename, df.Label)) \n",
        "  for f in files:\n",
        "      try:\n",
        "          src = os.path.join(params.IMG_DIRECTORY, f)\n",
        "          dst = os.path.join(filepath, str(labels[f]), f)\n",
        "          shutil.copyfile(src, dst)\n",
        "      except KeyError:\n",
        "          pass\n",
        "\n",
        "# sample number same as paper.\n",
        "sample_train_df = train_df.sample(n=10505)\n",
        "sample_val_df = val_df.sample(n=3502)\n",
        "sample_test_df = test_df.sample(n=3502) \n",
        "\n",
        "copy_files(sample_train_df, params.IMG_TRAIN_PATH)\n",
        "copy_files(sample_val_df, params.IMG_VAL_PATH)\n",
        "copy_files(label_df, params.IMG_CLASSES) # this holds all unsegregatd files."
      ]
    },
    {
      "cell_type": "markdown",
      "metadata": {},
      "source": [
        "### 3) Instantiate the data loaders for this k-fold."
      ]
    },
    {
      "cell_type": "code",
      "execution_count": null,
      "metadata": {},
      "outputs": [],
      "source": [
        "# Each training dataset contains 8382 x 5 images.\n",
        "\n",
        "train_loader = DataLoader(\n",
        " ConcatDataset([ImageFolder(\n",
        "          params.IMG_TRAIN_PATH, \n",
        "          transform=tsf.base_transform),\n",
        "     ImageFolder(\n",
        "          params.IMG_TRAIN_PATH,\n",
        "          transform=tsf.data_translate),\n",
        "     ImageFolder(\n",
        "          params.IMG_TRAIN_PATH,\n",
        "          transform=tsf.data_grayscale),\n",
        "     ImageFolder(\n",
        "          params.IMG_TRAIN_PATH,\n",
        "          transform=tsf.data_rotate),\n",
        "     ImageFolder(\n",
        "          params.IMG_TRAIN_PATH,\n",
        "          transform=tsf.data_jitter_hue)]), \n",
        "          batch_size=32, \n",
        "          shuffle=True, num_workers=2, \n",
        "          pin_memory=torch.cuda.is_available())\n",
        "\n",
        "# Each validation dataset contains 3251 x 5 images.\n",
        "\n",
        "val_loader = DataLoader(\n",
        " ConcatDataset([ImageFolder(\n",
        "          params.IMG_VAL_PATH, \n",
        "          transform=tsf.base_transform),\n",
        "     ImageFolder(\n",
        "          params.IMG_VAL_PATH,\n",
        "          transform=tsf.data_translate),\n",
        "     ImageFolder(\n",
        "          params.IMG_VAL_PATH,\n",
        "          transform=tsf.data_grayscale),\n",
        "     ImageFolder(\n",
        "          params.IMG_VAL_PATH,\n",
        "          transform=tsf.data_rotate),\n",
        "     ImageFolder(\n",
        "          params.IMG_VAL_PATH,\n",
        "          transform=tsf.data_jitter_hue)]), \n",
        "          batch_size=32, \n",
        "          shuffle=False, num_workers=2, \n",
        "          pin_memory=torch.cuda.is_available())\n",
        "\n",
        "dataloaders_augment = {}\n",
        "dataloaders_augment['train'] = train_loader\n",
        "dataloaders_augment['val'] = val_loader"
      ]
    },
    {
      "cell_type": "markdown",
      "metadata": {},
      "source": [
        "### Function to Encapsulate Training and Reporting"
      ]
    },
    {
      "cell_type": "code",
      "execution_count": null,
      "metadata": {},
      "outputs": [],
      "source": [
        "import time\n",
        "import copy\n",
        "\n",
        "\n",
        "def train_model(model, dataloaders, criterion, optimizer, num_epochs=5):\n",
        "    since = time.time()\n",
        "\n",
        "    # lists to store per-epoch loss and accuracy values\n",
        "    val_acc_history, val_loss_history = [], []\n",
        "    train_acc_history, train_loss_history = [], []\n",
        "\n",
        "    best_model_wts = copy.deepcopy(model.state_dict())\n",
        "    best_acc = 0.0\n",
        "\n",
        "    for epoch in range(num_epochs):\n",
        "        print('Epoch {}/{}'.format(epoch, num_epochs - 1))\n",
        "        print('-' * 10)\n",
        "\n",
        "        # Each epoch has a training and validation phase\n",
        "        for phase in ['train', 'val']:\n",
        "            if phase == 'train':\n",
        "                model.train()  # Set model to training mode\n",
        "            else:\n",
        "                model.eval()   # Set model to evaluate mode\n",
        "\n",
        "            running_loss = 0.0\n",
        "            running_corrects = 0\n",
        "\n",
        "            # Iterate over data.\n",
        "            for inputs, labels in dataloaders[phase]:\n",
        "                inputs = inputs.to(params.DEVICE)\n",
        "                labels = labels.to(params.DEVICE)\n",
        "\n",
        "                # zero the parameter gradients\n",
        "                optimizer.zero_grad()\n",
        "\n",
        "                # forward\n",
        "                # track history if only in train\n",
        "                with torch.set_grad_enabled(phase == 'train'):\n",
        "                    # Get model outputs and calculate loss\n",
        "                    outputs = model(inputs)\n",
        "                    loss = criterion(outputs, labels)\n",
        "\n",
        "                    _, preds = torch.max(outputs, 1)\n",
        "\n",
        "                    # backward + optimize only if in training phase\n",
        "                    if phase == 'train':\n",
        "                        loss.backward()\n",
        "                        optimizer.step()\n",
        "\n",
        "                # statistics\n",
        "                running_loss += loss.item() * inputs.size(0)\n",
        "                running_corrects += torch.sum(preds == labels.data)\n",
        "\n",
        "            epoch_loss = running_loss / len(dataloaders[phase].dataset)\n",
        "            epoch_acc = running_corrects.double() / len(dataloaders[phase].dataset)\n",
        "\n",
        "            print('{} Loss: {:.4f} Acc: {:.4f}'.format(phase, epoch_loss, epoch_acc))\n",
        "\n",
        "            # deep copy the model\n",
        "            if phase == 'val' and epoch_acc > best_acc:\n",
        "                best_acc = epoch_acc\n",
        "                best_model_wts = copy.deepcopy(model.state_dict())\n",
        "            if phase == 'val':\n",
        "                val_acc_history.append(epoch_acc)\n",
        "                val_loss_history.append(epoch_loss)\n",
        "            elif phase == 'train':\n",
        "                train_acc_history.append(epoch_acc)\n",
        "                train_loss_history.append(epoch_loss)\n",
        "\n",
        "        print()\n",
        "\n",
        "    time_elapsed = time.time() - since\n",
        "    print('Training complete in {:.0f}m {:.0f}s'.format(time_elapsed // 60, time_elapsed % 60))\n",
        "    print('Best val Acc: {:4f}'.format(best_acc))\n",
        "\n",
        "    # load best model weights\n",
        "    model.load_state_dict(best_model_wts)\n",
        "    return model, val_acc_history, val_loss_history, train_acc_history, train_loss_history"
      ]
    },
    {
      "cell_type": "markdown",
      "metadata": {},
      "source": [
        "### Functions to initialize and alter the ResNet50 model. \n",
        "#### Note the handling of grad vs. no-grad for a tunable model.\n",
        "\n",
        "The function in the next cell `set_parameter_requires_grad` sets the `.requires_grad` attribute of the model parameters to False. By default, when a pretrained model is loaded all of the parameters have .requires_grad=True (appropriate when training a model from scratch). Here we want to compute gradients for the newly initialized fc layer only."
      ]
    },
    {
      "cell_type": "code",
      "execution_count": null,
      "metadata": {},
      "outputs": [],
      "source": [
        "def set_parameter_requires_grad(model, feature_extracting):\n",
        "    if feature_extracting:\n",
        "        for param in model.parameters():\n",
        "            param.requires_grad = False\n",
        "\n",
        "def initialize_model(model_name, num_classes, feature_extract, use_pretrained=True):\n",
        "\n",
        "    model_ft = None\n",
        "    input_size = 0\n",
        "\n",
        "    if model_name == \"resnet50\":\n",
        "        \"\"\" Resnet50\n",
        "        \"\"\"\n",
        "        model_ft = torch.hub.load('pytorch/vision:v0.10.0', 'resnet50', pretrained=True)\n",
        "        set_parameter_requires_grad(model_ft, feature_extract)\n",
        "        num_ftrs = model_ft.fc.in_features\n",
        "        model_ft.fc = nn.Linear(num_ftrs, num_classes)\n",
        "        input_size = 224\n",
        "\n",
        "    else:\n",
        "        print(\"Invalid model name, exiting...\")\n",
        "        exit()\n",
        "\n",
        "    return model_ft, input_size"
      ]
    },
    {
      "cell_type": "markdown",
      "metadata": {},
      "source": [
        "### 4) Reinstatiate the model between each k-fold."
      ]
    },
    {
      "cell_type": "code",
      "execution_count": null,
      "metadata": {},
      "outputs": [],
      "source": [
        "num_classes = 9\n",
        "feature_extract = True\n",
        "\n",
        "resnet50_torch, input_size = initialize_model('resnet50', num_classes, \n",
        "                                        feature_extract, use_pretrained=True)\n",
        "if torch.cuda.is_available():\n",
        "    resnet50_torch.to('cuda') #IMPORTANT!"
      ]
    },
    {
      "cell_type": "markdown",
      "metadata": {},
      "source": [
        "### 5) Set parameters to be optimized on each run."
      ]
    },
    {
      "cell_type": "code",
      "execution_count": null,
      "metadata": {},
      "outputs": [],
      "source": [
        "# Gather the parameters to be optimized/updated in this run. Only \n",
        "# parameters that we have just initialized, i.e. the parameters with \n",
        "# requires_grad is True, will be updated. (i.e. the last fc layer).\n",
        "import torch.optim as optim\n",
        "\n",
        "params_to_update = resnet50_torch.parameters()\n",
        "print(\"Params to learn:\")\n",
        "if feature_extract:\n",
        "    params_to_update = []\n",
        "    for name,param in resnet50_torch.named_parameters():\n",
        "        if param.requires_grad == True:\n",
        "            params_to_update.append(param)\n",
        "            print(\"\\t\",name)\n",
        "else:\n",
        "    for name,param in resnet50_torch.named_parameters():\n",
        "        if param.requires_grad == True:\n",
        "            print(\"\\t\",name)\n",
        "\n",
        "# Observe that all parameters are being optimized\n",
        "#optimizer_ft = optim.SGD(params_to_update, lr=0.001, momentum=0.9)\n",
        "\n",
        "optimizer = optim.Adam(params_to_update, lr=1e-3)\n",
        "scheduler = optim.lr_scheduler.ReduceLROnPlateau(\n",
        "    optimizer, patience=16, factor=0.5, min_lr=0.000003125)\n",
        "\n",
        "# From Deepweeds code...\n",
        "# reduce_lr = ReduceLROnPlateau('val_loss', factor=0.5, patience=LR_PATIENCE, min_lr=0.000003125)\n"
      ]
    },
    {
      "cell_type": "markdown",
      "metadata": {},
      "source": [
        "## 6) Train the model."
      ]
    },
    {
      "cell_type": "code",
      "execution_count": null,
      "metadata": {},
      "outputs": [],
      "source": [
        "criterion = nn.CrossEntropyLoss() # same as DeepWeeds (i.e. binary_crossentropy)\n",
        "\n",
        "params.NUM_EPOCHS = 10 # set this manually\n",
        "\n",
        "resnet50_torch, val_acc, val_loss, train_acc, train_loss = train_model(\n",
        "                                    resnet50_torch, dataloaders_dict, \n",
        "                                    criterion, optimizer, \n",
        "                                    num_epochs=params.NUM_EPOCHS)"
      ]
    },
    {
      "cell_type": "markdown",
      "metadata": {},
      "source": [
        "### Print Stats"
      ]
    },
    {
      "cell_type": "code",
      "execution_count": null,
      "metadata": {},
      "outputs": [],
      "source": [
        "# Convert tensor objects to lists\n",
        "val_acc_record = [val_acc[x].item() for x in range(len(val_acc))]\n",
        "val_loss_record = [val_loss[x] for x in range(len(val_loss))]\n",
        "train_acc_record = [train_acc[x].item() for x in range(len(train_acc))]\n",
        "train_loss_record = [train_loss[x] for x in range(len(train_loss))]\n",
        "\n",
        "# Accuracy plots\n",
        "plt.figure(figsize=(8, 6))\n",
        "plt.plot(train_acc_record, color='green', label='train acc')\n",
        "plt.plot(val_acc_record, color='blue', label='val acc')\n",
        "plt.xlabel('Epochs')\n",
        "plt.ylabel('Accuracy')\n",
        "plt.legend()\n",
        "#plt.savefig(f\"../outputs/{acc_plot_name}.png\")\n",
        "plt.show()\n",
        "\n",
        "# Loss plots\n",
        "plt.figure(figsize=(8, 6))\n",
        "plt.plot(train_loss_record, color='orange', label='train loss')\n",
        "plt.plot(val_loss_record, color='red', label='val loss')\n",
        "plt.xlabel('Epochs')\n",
        "plt.ylabel('Loss')\n",
        "plt.legend()\n",
        "#plt.savefig(f\"../outputs/{loss_plot_name}.png\")\n",
        "plt.show()\n",
        "\n",
        "# Train acc versus loss\n",
        "plt.figure(figsize=(8, 6))\n",
        "plt.plot(train_acc_record, color='blue', label='train acc')\n",
        "plt.plot(train_loss_record, color='green', label='train loss')\n",
        "plt.xlabel('Epochs')\n",
        "plt.ylabel('Accuracy/Loss')\n",
        "plt.legend()\n",
        "#plt.savefig(f\"../outputs/{acc_plot_name}.png\")\n",
        "plt.show()\n",
        "\n",
        "# Val acc versus loss\n",
        "plt.figure(figsize=(8, 6))\n",
        "plt.plot(val_acc_record, color='red', label='val acc')\n",
        "plt.plot(val_loss_record, color='orange', label='val loss')\n",
        "plt.xlabel('Epochs')\n",
        "plt.ylabel('Accuracy/Loss')\n",
        "plt.legend()\n",
        "#plt.savefig(f\"../outputs/{acc_plot_name}.png\")\n",
        "plt.show()"
      ]
    },
    {
      "cell_type": "markdown",
      "metadata": {},
      "source": [
        "### 7) Delete files from their respective directories, start again on the next fold."
      ]
    },
    {
      "cell_type": "code",
      "execution_count": null,
      "metadata": {},
      "outputs": [],
      "source": [
        "import os\n",
        "\n",
        "def delete_class_files(path):\n",
        "  for file_name in os.listdir(path):\n",
        "      file = path + file_name\n",
        "      #print(file)\n",
        "      if os.path.isfile(file):\n",
        "          os.remove(file)"
      ]
    },
    {
      "cell_type": "markdown",
      "metadata": {},
      "source": [
        "### Functions to checkpoint, print state[s] of model and optimizer, save and load an existing model."
      ]
    },
    {
      "cell_type": "code",
      "execution_count": null,
      "metadata": {},
      "outputs": [],
      "source": [
        "def checkpoint(epoch, nn, opt, LOSS, MODEL_PATH ):\n",
        "    torch.save({\n",
        "                'epoch': EPOCH,\n",
        "                'model_state_dict': nn.state_dict(),\n",
        "                'optimizer_state_dict': optimizer.state_dict(),\n",
        "                'loss': LOSS,\n",
        "                }, MODEL_PATH)"
      ]
    },
    {
      "cell_type": "code",
      "execution_count": null,
      "metadata": {},
      "outputs": [],
      "source": [
        "def print_states(m, opt):\n",
        "    # Print the model's state_dict\n",
        "    print(\"Model's state_dict:\")\n",
        "    for param_tensor in m.state_dict():\n",
        "        print(param_tensor, \"\\t\", m.state_dict()[param_tensor].size())\n",
        "\n",
        "    # Print optimizer's state_dict\n",
        "    print(\"Optimizer's state_dict:\")\n",
        "    for var_name in opt.state_dict():\n",
        "        print(var_name, \"\\t\", opt.state_dict()[var_name])"
      ]
    },
    {
      "cell_type": "code",
      "execution_count": null,
      "metadata": {},
      "outputs": [],
      "source": [
        "def save_model(m)\n",
        "    torch.save(m.state_dict(), os.path.join(params.OUTPUT_PATH, 'model.pth'))"
      ]
    },
    {
      "cell_type": "code",
      "execution_count": null,
      "metadata": {},
      "outputs": [],
      "source": [
        "def load_model():\n",
        "    model.load_state_dict(torch.load(params.OUTPUT_PATH))\n",
        "    return model"
      ]
    },
    {
      "cell_type": "code",
      "execution_count": null,
      "metadata": {},
      "outputs": [],
      "source": [
        "from data import transforms as tsf\n",
        "from torch.utils.data import Dataset, DataLoader, ConcatDataset\n",
        "from torchvision.datasets import ImageFolder\n",
        "\n",
        "train_data_na = ImageFolder(\n",
        "    root=params.IMG_TRAIN_PATH, \n",
        "    transform=tsf.base_transform)\n",
        "train_loader_na = DataLoader(train_data_na, \n",
        "    batch_size=32, shuffle=True, \n",
        "    num_workers=2)\n",
        "\n",
        "val_data_na = ImageFolder(\n",
        "    root=params.IMG_VAL_PATH, \n",
        "    transform=tsf.base_transform)\n",
        "val_loader_na = DataLoader(val_data_na, \n",
        "    batch_size=32, shuffle=True, \n",
        "    num_workers=2)"
      ]
    },
    {
      "cell_type": "code",
      "execution_count": null,
      "metadata": {},
      "outputs": [],
      "source": [
        "from utils.normalize import UnNormalize\n",
        "\n",
        "labels_map = {\n",
        "    0: 'Chinee Apple',\n",
        "    1: 'Lantana',\n",
        "    2: 'Parkinsonia',\n",
        "    3: 'Parthenium',\n",
        "    4: 'Prickly Acacia',\n",
        "    5: 'Rubber Vine',\n",
        "    6: 'Siam Weed',\n",
        "    7: 'Snake Weed',\n",
        "    8: 'Negatives',\n",
        "}\n",
        "\n",
        "unorm = UnNormalize(mean = [0.485, 0.456, 0.406], \n",
        "                    std = [0.229, 0.224, 0.225])\n",
        "\n",
        "fig = plt.figure(figsize=(8, 8))\n",
        "columns = 3\n",
        "rows = 3\n",
        "for i in range(1, columns*rows +1):\n",
        "    sample_idx = torch.randint(len(train_data_na), size=(1,)).item()\n",
        "    img, label = train_data_na[sample_idx]\n",
        "    img = unorm(img) # undo normalization\n",
        "    img = img.permute(1, 2, 0).numpy() # format for imshow\n",
        "    fig.add_subplot(rows, columns, i)\n",
        "    ax = plt.gca()\n",
        "    ax.axes.xaxis.set_ticks([])\n",
        "    ax.axes.yaxis.set_ticks([])\n",
        "    plt.title(labels_map[label])\n",
        "    plt.imshow(img)\n",
        "plt.show()"
      ]
    },
    {
      "cell_type": "code",
      "execution_count": null,
      "metadata": {},
      "outputs": [],
      "source": [
        "''' GUTTER ------ \n",
        "'''"
      ]
    }
  ],
  "metadata": {
    "colab": {
      "authorship_tag": "ABX9TyNakgWdfr0oHr8HQcRFOsFM",
      "collapsed_sections": [],
      "include_colab_link": true,
      "name": "load_deepweeds.ipynb",
      "provenance": []
    },
    "kernelspec": {
      "display_name": "Python 3",
      "name": "python3"
    },
    "language_info": {
      "name": "python"
    }
  },
  "nbformat": 4,
  "nbformat_minor": 0
}
