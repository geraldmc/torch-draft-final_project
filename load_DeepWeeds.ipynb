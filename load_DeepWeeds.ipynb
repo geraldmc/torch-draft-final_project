{
  "nbformat": 4,
  "nbformat_minor": 0,
  "metadata": {
    "colab": {
      "name": "test_yolo5.ipynb",
      "provenance": [],
      "collapsed_sections": [],
      "machine_shape": "hm",
      "authorship_tag": "ABX9TyMXMTHLKfxPOcbzbbrbgi46",
      "include_colab_link": true
    },
    "kernelspec": {
      "name": "python3",
      "display_name": "Python 3"
    },
    "language_info": {
      "name": "python"
    },
    "accelerator": "GPU"
  },
  "cells": [
    {
      "cell_type": "markdown",
      "metadata": {
        "id": "view-in-github",
        "colab_type": "text"
      },
      "source": [
        "<a href=\"https://colab.research.google.com/github/geraldmc/torch-draft-final_project/blob/main/load_DeepWeeds.ipynb\" target=\"_parent\"><img src=\"https://colab.research.google.com/assets/colab-badge.svg\" alt=\"Open In Colab\"/></a>"
      ]
    },
    {
      "cell_type": "markdown",
      "source": [
        "## Welcome to the **[Project Page ...](https://)**\n",
        "\n",
        "This notebook is associated with the project submission of MOHAMMED RASHED and GERALD MCCOLLAM and for the class `EN.525.733.8VL.SP22 Deep Learning for Computer Vision`. Our semester project is [Weed Object Detection w/ YOLOv5](https://).\n",
        "\n",
        "Please note that the codeblocks in this notebook have a 1:1 relationship with the submitted code on Blackboard with two exceptions: (1) Python classes here are not separated as in the zipped file submission on Blackboard, and (2) Command Line Argument parsing here is replaced with an `args` dictionary.\n",
        "\n",
        "This notebook may be executed by pressing ▶️ block-by-block, without adjusting `args` inputs. It may also be executed with `Run all` under ` Runtime` in the menu.\n",
        "\n",
        "<hr>"
      ],
      "metadata": {
        "id": "RehXPiwLoJEk"
      }
    },
    {
      "cell_type": "markdown",
      "source": [
        "### Download the code zip file from Github"
      ],
      "metadata": {
        "id": "DBQSaqmopkMF"
      }
    },
    {
      "cell_type": "code",
      "source": [
        "import os\n",
        "\n",
        "if os.path.isfile(\"../main.zip\"):\n",
        "  print ('Have already downloaded the project file, continuing...')\n",
        "  print()\n",
        "else:\n",
        "  print ('Downloading file...')\n",
        "  ! wget https://github.com/geraldmc/torch-draft-final_project/archive/refs/heads/main.zip\n",
        "  ! unzip -qq main.zip\n",
        "  %cd torch-draft-final_project-main"
      ],
      "metadata": {
        "colab": {
          "base_uri": "https://localhost:8080/"
        },
        "id": "frjja30PpskB",
        "outputId": "75be9fcc-4c89-4d42-afd6-303fe284f74e"
      },
      "execution_count": 1,
      "outputs": [
        {
          "output_type": "stream",
          "name": "stdout",
          "text": [
            "Downloading file...\n",
            "--2022-03-27 15:18:40--  https://github.com/geraldmc/torch-draft-final_project/archive/refs/heads/main.zip\n",
            "Resolving github.com (github.com)... 192.30.255.112\n",
            "Connecting to github.com (github.com)|192.30.255.112|:443... connected.\n",
            "HTTP request sent, awaiting response... 302 Found\n",
            "Location: https://codeload.github.com/geraldmc/torch-draft-final_project/zip/refs/heads/main [following]\n",
            "--2022-03-27 15:18:40--  https://codeload.github.com/geraldmc/torch-draft-final_project/zip/refs/heads/main\n",
            "Resolving codeload.github.com (codeload.github.com)... 192.30.255.121\n",
            "Connecting to codeload.github.com (codeload.github.com)|192.30.255.121|:443... connected.\n",
            "HTTP request sent, awaiting response... 200 OK\n",
            "Length: unspecified [application/zip]\n",
            "Saving to: ‘main.zip’\n",
            "\n",
            "main.zip                [ <=>                ]   8.20K  --.-KB/s    in 0s      \n",
            "\n",
            "2022-03-27 15:18:41 (51.7 MB/s) - ‘main.zip’ saved [8400]\n",
            "\n",
            "/content/torch-draft-final_project-main\n"
          ]
        }
      ]
    },
    {
      "cell_type": "markdown",
      "source": [
        "### Download the dataset"
      ],
      "metadata": {
        "id": "0SlaPNP-0A8d"
      }
    },
    {
      "cell_type": "markdown",
      "source": [
        "The project dataset is hosted on [???]. There are two options for getting the dataset to our Colab Notebook environment - \n",
        "\n",
        "* Download from [???] as a zipped file, upload to Google Drive, and then mount Google Drive on Colab to access the uploaded dataset. \n",
        "* Use the [Drive API](https://) to directly download the dataset to the Colab Notebook environment. \n",
        "\n",
        "Since we'll be using the Drive API we'll need to download and install it. "
      ],
      "metadata": {
        "id": "_Ukqa0M6zgn5"
      }
    },
    {
      "cell_type": "code",
      "source": [
        "# Import local libs in a try block\n",
        "try:\n",
        "  import conf.params as params\n",
        "except ImportError:\n",
        "  pass"
      ],
      "metadata": {
        "id": "SKi1NlPFe3SS"
      },
      "execution_count": 2,
      "outputs": []
    },
    {
      "cell_type": "code",
      "source": [
        "from google.colab import drive\n",
        "drive.mount('/content/gdrive')\n",
        "print(\"Downloading DeepWeeds images to \" + params.IMG_ZIP_FILE)\n",
        "!cp '{params.GDRIVE_ZIP_SRC}' '{params.IMG_ZIP_FILE}'\n",
        "print()\n",
        "!ls -lart {params.IMG_ZIP_FILE}"
      ],
      "metadata": {
        "colab": {
          "base_uri": "https://localhost:8080/"
        },
        "id": "tCS6EuDLiZIf",
        "outputId": "7431673c-7fbb-4b08-973a-43c33cd23622"
      },
      "execution_count": 3,
      "outputs": [
        {
          "output_type": "stream",
          "name": "stdout",
          "text": [
            "Mounted at /content/gdrive\n",
            "Downloading DeepWeeds images to /content/torch-draft-final_project-main/data/images.zip\n",
            "\n",
            "-rw------- 1 root root 491516047 Mar 27 15:19 /content/torch-draft-final_project-main/data/images.zip\n"
          ]
        }
      ]
    },
    {
      "cell_type": "code",
      "source": [
        "from zipfile import ZipFile\n",
        "\n",
        "with ZipFile(params.IMG_ZIP_FILE, \"r\") as zip_ref:\n",
        "    zip_ref.extractall(params.IMG_DIRECTORY)"
      ],
      "metadata": {
        "id": "XSoB-jX5n7l8"
      },
      "execution_count": 4,
      "outputs": []
    },
    {
      "cell_type": "code",
      "source": [
        "# Number of files in image directory\n",
        "import os\n",
        "print (len([name for name in os.listdir(params.IMG_DIRECTORY) if os.path.isfile(os.path.join(params.IMG_DIRECTORY, name))]) )"
      ],
      "metadata": {
        "id": "YrRFpdIqn7os",
        "colab": {
          "base_uri": "https://localhost:8080/"
        },
        "outputId": "e15f4a99-5ef8-4783-b0ce-435bab02684c"
      },
      "execution_count": 5,
      "outputs": [
        {
          "output_type": "stream",
          "name": "stdout",
          "text": [
            "17509\n"
          ]
        }
      ]
    },
    {
      "cell_type": "code",
      "source": [
        ""
      ],
      "metadata": {
        "id": "XKH5tpdLn7r1"
      },
      "execution_count": null,
      "outputs": []
    },
    {
      "cell_type": "code",
      "source": [
        ""
      ],
      "metadata": {
        "id": "FtrN_ZIRocgW"
      },
      "execution_count": null,
      "outputs": []
    },
    {
      "cell_type": "code",
      "source": [
        ""
      ],
      "metadata": {
        "id": "QVXtDqHGoci7"
      },
      "execution_count": null,
      "outputs": []
    },
    {
      "cell_type": "code",
      "source": [
        ""
      ],
      "metadata": {
        "id": "Hggwog6-oclA"
      },
      "execution_count": null,
      "outputs": []
    },
    {
      "cell_type": "code",
      "source": [
        ""
      ],
      "metadata": {
        "id": "Bd66CPWFn7u8"
      },
      "execution_count": null,
      "outputs": []
    },
    {
      "cell_type": "code",
      "source": [
        ""
      ],
      "metadata": {
        "id": "bEE_h9zc1IHI"
      },
      "execution_count": null,
      "outputs": []
    },
    {
      "cell_type": "code",
      "source": [
        ""
      ],
      "metadata": {
        "id": "seCT7NqR1IP9"
      },
      "execution_count": null,
      "outputs": []
    },
    {
      "cell_type": "code",
      "source": [
        ""
      ],
      "metadata": {
        "id": "KtIzo-MJ1IT2"
      },
      "execution_count": null,
      "outputs": []
    }
  ]
}