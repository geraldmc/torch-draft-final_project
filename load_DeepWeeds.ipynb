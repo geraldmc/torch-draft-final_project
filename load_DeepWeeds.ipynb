{
  "nbformat": 4,
  "nbformat_minor": 0,
  "metadata": {
    "colab": {
      "name": "test_yolo5.ipynb",
      "provenance": [],
      "collapsed_sections": [],
      "machine_shape": "hm",
      "authorship_tag": "ABX9TyMfRFLVPyKgGDzwCbH6NZ85",
      "include_colab_link": true
    },
    "kernelspec": {
      "name": "python3",
      "display_name": "Python 3"
    },
    "language_info": {
      "name": "python"
    },
    "accelerator": "GPU"
  },
  "cells": [
    {
      "cell_type": "markdown",
      "metadata": {
        "id": "view-in-github",
        "colab_type": "text"
      },
      "source": [
        "<a href=\"https://colab.research.google.com/github/geraldmc/torch-draft-final_project/blob/main/load_DeepWeeds.ipynb\" target=\"_parent\"><img src=\"https://colab.research.google.com/assets/colab-badge.svg\" alt=\"Open In Colab\"/></a>"
      ]
    },
    {
      "cell_type": "markdown",
      "source": [
        "## Welcome to the **[Project Page ...](https://)**\n",
        "\n",
        "This notebook is associated with the project submission of MOHAMMED RASHED and GERALD MCCOLLAM and for the class `EN.525.733.8VL.SP22 Deep Learning for Computer Vision`. Our semester project is [Weed Object Detection](https://).\n",
        "\n",
        "Please note that the codeblocks in this notebook have a 1:1 relationship with the submitted code on Blackboard with two exceptions: (1) Python classes here are not separated as in the zipped file submission on Blackboard, and (2) Command Line Argument parsing here is replaced with an `args` dictionary.\n",
        "\n",
        "This notebook may be executed by pressing ▶️ block-by-block, without adjusting `args` inputs. It may also be executed with `Run all` under ` Runtime` in the menu.\n",
        "\n",
        "<hr>"
      ],
      "metadata": {
        "id": "RehXPiwLoJEk"
      }
    },
    {
      "cell_type": "markdown",
      "source": [
        "### Download the code from Github"
      ],
      "metadata": {
        "id": "DBQSaqmopkMF"
      }
    },
    {
      "cell_type": "code",
      "source": [
        "import os\n",
        "\n",
        "if os.path.isfile(\"../main.zip\"):\n",
        "  print ('Have already downloaded the project file, continuing...')\n",
        "  print()\n",
        "else:\n",
        "  print ('Downloading file...')\n",
        "  ! wget https://github.com/geraldmc/torch-draft-final_project/archive/refs/heads/main.zip\n",
        "  ! unzip -qq main.zip\n",
        "  %cd torch-draft-final_project-main"
      ],
      "metadata": {
        "colab": {
          "base_uri": "https://localhost:8080/"
        },
        "id": "frjja30PpskB",
        "outputId": "4083260d-847a-46e6-cf10-f66e7bf45be9"
      },
      "execution_count": 1,
      "outputs": [
        {
          "output_type": "stream",
          "name": "stdout",
          "text": [
            "Downloading file...\n",
            "--2022-03-27 23:48:22--  https://github.com/geraldmc/torch-draft-final_project/archive/refs/heads/main.zip\n",
            "Resolving github.com (github.com)... 140.82.114.3\n",
            "Connecting to github.com (github.com)|140.82.114.3|:443... connected.\n",
            "HTTP request sent, awaiting response... 302 Found\n",
            "Location: https://codeload.github.com/geraldmc/torch-draft-final_project/zip/refs/heads/main [following]\n",
            "--2022-03-27 23:48:22--  https://codeload.github.com/geraldmc/torch-draft-final_project/zip/refs/heads/main\n",
            "Resolving codeload.github.com (codeload.github.com)... 140.82.112.10\n",
            "Connecting to codeload.github.com (codeload.github.com)|140.82.112.10|:443... connected.\n",
            "HTTP request sent, awaiting response... 200 OK\n",
            "Length: unspecified [application/zip]\n",
            "Saving to: ‘main.zip’\n",
            "\n",
            "main.zip                [ <=>                ] 521.70K  --.-KB/s    in 0.1s    \n",
            "\n",
            "2022-03-27 23:48:22 (3.68 MB/s) - ‘main.zip’ saved [534224]\n",
            "\n",
            "/content/torch-draft-final_project-main\n"
          ]
        }
      ]
    },
    {
      "cell_type": "markdown",
      "source": [
        "### Download the dataset from Google Drive"
      ],
      "metadata": {
        "id": "0SlaPNP-0A8d"
      }
    },
    {
      "cell_type": "markdown",
      "source": [
        "The project dataset is hosted on [???]. There are two options for getting the dataset to our Colab Notebook environment - \n",
        "\n",
        "* Download from [???] as a zipped file, upload to Google Drive, and then mount Google Drive on Colab to access the uploaded dataset. \n",
        "* Use the [Drive API](https://) to directly download the dataset to the Colab Notebook environment. \n",
        "\n",
        "Since we'll be using the Drive API we'll need to download and install it. "
      ],
      "metadata": {
        "id": "_Ukqa0M6zgn5"
      }
    },
    {
      "cell_type": "code",
      "source": [
        "# Import local libs in a try block\n",
        "try:\n",
        "  import conf.params as params\n",
        "except ImportError:\n",
        "  pass"
      ],
      "metadata": {
        "id": "SKi1NlPFe3SS"
      },
      "execution_count": 2,
      "outputs": []
    },
    {
      "cell_type": "code",
      "source": [
        "from google.colab import drive\n",
        "drive.mount('/content/gdrive')\n",
        "print(\"Downloading DeepWeeds images to \" + params.IMG_ZIP_FILE)\n",
        "!cp '{params.GD_ZIP_IMG}' '{params.IMG_ZIP_FILE}'\n",
        "print()\n",
        "!ls -lart {params.IMG_ZIP_FILE}"
      ],
      "metadata": {
        "colab": {
          "base_uri": "https://localhost:8080/"
        },
        "id": "tCS6EuDLiZIf",
        "outputId": "4f2ca6cd-233a-4e7c-f98d-5f7025c9c555"
      },
      "execution_count": 3,
      "outputs": [
        {
          "output_type": "stream",
          "name": "stdout",
          "text": [
            "Mounted at /content/gdrive\n",
            "Downloading DeepWeeds images to /content/torch-draft-final_project-main/data/images.zip\n",
            "\n",
            "-rw------- 1 root root 491516047 Mar 27 23:48 /content/torch-draft-final_project-main/data/images.zip\n"
          ]
        }
      ]
    },
    {
      "cell_type": "code",
      "source": [
        "from zipfile import ZipFile\n",
        "print(\"Unzipping DeepWeeds images into \" + params.IMG_DIRECTORY)\n",
        "\n",
        "with ZipFile(params.IMG_ZIP_FILE, \"r\") as zip_ref:\n",
        "    zip_ref.extractall(params.IMG_DIRECTORY)\n",
        "\n",
        "img_list=os.listdir(params.IMG_DIRECTORY)\n",
        "print(len(img_list))\n",
        "img_list[0:5]"
      ],
      "metadata": {
        "id": "XSoB-jX5n7l8",
        "colab": {
          "base_uri": "https://localhost:8080/"
        },
        "outputId": "7912289e-3cef-48d8-e583-292701d8d92a"
      },
      "execution_count": 4,
      "outputs": [
        {
          "output_type": "stream",
          "name": "stdout",
          "text": [
            "Unzipping DeepWeeds images into /content/torch-draft-final_project-main/data/images\n",
            "17509\n"
          ]
        },
        {
          "output_type": "execute_result",
          "data": {
            "text/plain": [
              "['20180125-100017-1.jpg',\n",
              " '20170920-163318-3.jpg',\n",
              " '20170501-143226-0.jpg',\n",
              " '20171025-074626-2.jpg',\n",
              " '20170920-192350-1.jpg']"
            ]
          },
          "metadata": {},
          "execution_count": 4
        }
      ]
    },
    {
      "cell_type": "markdown",
      "source": [
        "### Download the models from Google Drive\n",
        "\n"
      ],
      "metadata": {
        "id": "fkumlwo0gMaP"
      }
    },
    {
      "cell_type": "code",
      "source": [
        "print(\"Downloading DeepWeeds model file to \" + params.MODEL_ZIP_FILE)\n",
        "!cp '{params.GD_ZIP_MODEL}' {params.MODEL_ZIP_FILE}\n",
        "print()\n",
        "!ls -lart {params.MODEL_ZIP_FILE}"
      ],
      "metadata": {
        "id": "FtrN_ZIRocgW",
        "colab": {
          "base_uri": "https://localhost:8080/"
        },
        "outputId": "bdf5fc54-477c-4235-c78a-24776c91e7b8"
      },
      "execution_count": 5,
      "outputs": [
        {
          "output_type": "stream",
          "name": "stdout",
          "text": [
            "Downloading DeepWeeds model file to /content/torch-draft-final_project-main/data/models.zip\n",
            "\n",
            "-rw------- 1 root root 500977517 Mar 27 23:49 /content/torch-draft-final_project-main/data/models.zip\n"
          ]
        }
      ]
    },
    {
      "cell_type": "code",
      "source": [
        "print(\"Unzipping DeepWeeds model files into \" + params.MODEL_DIRECTORY)\n",
        "\n",
        "with ZipFile(params.MODEL_ZIP_FILE, \"r\") as zip_ref:\n",
        "    zip_ref.extractall(params.MODEL_DIRECTORY)\n",
        "\n",
        "!ls -lart {params.MODEL_DIRECTORY}"
      ],
      "metadata": {
        "colab": {
          "base_uri": "https://localhost:8080/"
        },
        "id": "XWLUFvQEnvYa",
        "outputId": "c1d593fe-d1e9-4daf-c7d9-7b1165926a47"
      },
      "execution_count": 6,
      "outputs": [
        {
          "output_type": "stream",
          "name": "stdout",
          "text": [
            "Unzipping DeepWeeds model files into /content/torch-draft-final_project-main/data/models\n",
            "total 533476\n",
            "drwxr-xr-x 5 root root      4096 Mar 27 23:49 ..\n",
            "-rw-r--r-- 1 root root 262650488 Mar 27 23:49 inception.hdf5\n",
            "drwxr-xr-x 2 root root      4096 Mar 27 23:49 .\n",
            "-rw-r--r-- 1 root root 283616576 Mar 27 23:49 resnet.hdf5\n"
          ]
        }
      ]
    },
    {
      "cell_type": "markdown",
      "source": [
        "### Get the Labels"
      ],
      "metadata": {
        "id": "pytpFnqhu-Qo"
      }
    },
    {
      "cell_type": "code",
      "source": [
        "LABEL_PATH = os.path.join(params.DATA_PATH, 'labels')\n",
        "!ls {LABEL_PATH}"
      ],
      "metadata": {
        "colab": {
          "base_uri": "https://localhost:8080/"
        },
        "id": "OlgGu2Eguwwe",
        "outputId": "8674b5a7-f156-4516-ab55-78479550de17"
      },
      "execution_count": 7,
      "outputs": [
        {
          "output_type": "stream",
          "name": "stdout",
          "text": [
            "labels.csv\t  test_subset3.csv   train_subset2.csv\tval_subset1.csv\n",
            "test_subset0.csv  test_subset4.csv   train_subset3.csv\tval_subset2.csv\n",
            "test_subset1.csv  train_subset0.csv  train_subset4.csv\tval_subset3.csv\n",
            "test_subset2.csv  train_subset1.csv  val_subset0.csv\tval_subset4.csv\n"
          ]
        }
      ]
    },
    {
      "cell_type": "code",
      "source": [
        ""
      ],
      "metadata": {
        "id": "BFFLlrpCuw1Y"
      },
      "execution_count": null,
      "outputs": []
    },
    {
      "cell_type": "code",
      "source": [
        ""
      ],
      "metadata": {
        "id": "QVXtDqHGoci7"
      },
      "execution_count": null,
      "outputs": []
    },
    {
      "cell_type": "code",
      "source": [
        ""
      ],
      "metadata": {
        "id": "Hggwog6-oclA"
      },
      "execution_count": null,
      "outputs": []
    },
    {
      "cell_type": "code",
      "source": [
        ""
      ],
      "metadata": {
        "id": "Bd66CPWFn7u8"
      },
      "execution_count": null,
      "outputs": []
    },
    {
      "cell_type": "code",
      "source": [
        ""
      ],
      "metadata": {
        "id": "bEE_h9zc1IHI"
      },
      "execution_count": null,
      "outputs": []
    },
    {
      "cell_type": "code",
      "source": [
        ""
      ],
      "metadata": {
        "id": "seCT7NqR1IP9"
      },
      "execution_count": null,
      "outputs": []
    }
  ]
}