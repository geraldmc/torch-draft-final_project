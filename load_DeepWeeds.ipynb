{
  "cells": [
    {
      "cell_type": "markdown",
      "metadata": {
        "colab_type": "text",
        "id": "view-in-github"
      },
      "source": [
        "<a href=\"https://colab.research.google.com/github/geraldmc/torch-draft-final_project/blob/main/load_DeepWeeds.ipynb\" target=\"_parent\"><img src=\"https://colab.research.google.com/assets/colab-badge.svg\" alt=\"Open In Colab\"/></a>"
      ]
    },
    {
      "cell_type": "markdown",
      "metadata": {
        "id": "RehXPiwLoJEk"
      },
      "source": [
        "## Welcome to the **[Project Page ...](https://)**\n",
        "\n",
        "This notebook is associated with the project submission of MOHAMMED RASHED and GERALD MCCOLLAM and for the class `EN.525.733.8VL.SP22 Deep Learning for Computer Vision`. Our semester project is [Weed Object Detection](https://).\n",
        "\n",
        "Please note that the codeblocks in this notebook have a 1:1 relationship with the submitted code on Blackboard with two exceptions: (1) Python classes here are not separated as in the zipped file submission on Blackboard, and (2) Command Line Argument parsing here is replaced with an `args` dictionary.\n",
        "\n",
        "This notebook may be executed by pressing ▶️ block-by-block, without adjusting `args` inputs. It may also be executed with `Run all` under ` Runtime` in the menu.\n",
        "\n",
        "<hr>"
      ]
    },
    {
      "cell_type": "markdown",
      "metadata": {
        "id": "DBQSaqmopkMF"
      },
      "source": [
        "### Download the code from Github"
      ]
    },
    {
      "cell_type": "code",
      "execution_count": 1,
      "metadata": {
        "colab": {
          "base_uri": "https://localhost:8080/"
        },
        "id": "frjja30PpskB",
        "outputId": "4083260d-847a-46e6-cf10-f66e7bf45be9"
      },
      "outputs": [
        {
          "name": "stdout",
          "output_type": "stream",
          "text": [
            "Downloading file...\n",
            "--2022-03-27 23:48:22--  https://github.com/geraldmc/torch-draft-final_project/archive/refs/heads/main.zip\n",
            "Resolving github.com (github.com)... 140.82.114.3\n",
            "Connecting to github.com (github.com)|140.82.114.3|:443... connected.\n",
            "HTTP request sent, awaiting response... 302 Found\n",
            "Location: https://codeload.github.com/geraldmc/torch-draft-final_project/zip/refs/heads/main [following]\n",
            "--2022-03-27 23:48:22--  https://codeload.github.com/geraldmc/torch-draft-final_project/zip/refs/heads/main\n",
            "Resolving codeload.github.com (codeload.github.com)... 140.82.112.10\n",
            "Connecting to codeload.github.com (codeload.github.com)|140.82.112.10|:443... connected.\n",
            "HTTP request sent, awaiting response... 200 OK\n",
            "Length: unspecified [application/zip]\n",
            "Saving to: ‘main.zip’\n",
            "\n",
            "main.zip                [ <=>                ] 521.70K  --.-KB/s    in 0.1s    \n",
            "\n",
            "2022-03-27 23:48:22 (3.68 MB/s) - ‘main.zip’ saved [534224]\n",
            "\n",
            "/content/torch-draft-final_project-main\n"
          ]
        }
      ],
      "source": [
        "import os\n",
        "\n",
        "if os.path.isfile(\"../main.zip\"):\n",
        "  print ('Have already downloaded the project file, continuing...')\n",
        "  print()\n",
        "else:\n",
        "  print ('Downloading file...')\n",
        "  ! wget https://github.com/geraldmc/torch-draft-final_project/archive/refs/heads/main.zip\n",
        "  ! unzip -qq main.zip\n",
        "  %cd torch-draft-final_project-main"
      ]
    },
    {
      "cell_type": "markdown",
      "metadata": {
        "id": "0SlaPNP-0A8d"
      },
      "source": [
        "### Download the dataset from Google Drive"
      ]
    },
    {
      "cell_type": "markdown",
      "metadata": {
        "id": "_Ukqa0M6zgn5"
      },
      "source": [
        "The project dataset and models are available on the DeepWeeds Github. There are two options for getting these into our Colab Notebook environment - \n",
        "\n",
        "* Download from Github as two zipped files ([dataset link here](https://drive.google.com/file/d/1xnK3B6K6KekDI55vwJ0vnc2IGoDga9cj), [models file link here](https://drive.google.com/file/d/1MRbN5hXOTYnw7-71K-2vjY01uJ9GkQM5)) and upload these to Google Drive, then mount Google Drive on Colab to access the uploaded dataset and models. \n",
        "* Use the [Drive API](https://) to download the dataset and models into the Colab Notebook. \n",
        "\n",
        "Here we'll be using the first method."
      ]
    },
    {
      "cell_type": "code",
      "execution_count": 2,
      "metadata": {
        "id": "SKi1NlPFe3SS"
      },
      "outputs": [],
      "source": [
        "# Import local libs in a try block\n",
        "try:\n",
        "  import conf.params as params\n",
        "except ImportError:\n",
        "  pass"
      ]
    },
    {
      "cell_type": "code",
      "execution_count": 3,
      "metadata": {
        "colab": {
          "base_uri": "https://localhost:8080/"
        },
        "id": "tCS6EuDLiZIf",
        "outputId": "4f2ca6cd-233a-4e7c-f98d-5f7025c9c555"
      },
      "outputs": [
        {
          "name": "stdout",
          "output_type": "stream",
          "text": [
            "Mounted at /content/gdrive\n",
            "Downloading DeepWeeds images to /content/torch-draft-final_project-main/data/images.zip\n",
            "\n",
            "-rw------- 1 root root 491516047 Mar 27 23:48 /content/torch-draft-final_project-main/data/images.zip\n"
          ]
        }
      ],
      "source": [
        "from google.colab import drive\n",
        "drive.mount('/content/gdrive')\n",
        "print(\"Downloading DeepWeeds images to \" + params.IMG_ZIP_FILE)\n",
        "!cp '{params.GD_ZIP_IMG}' '{params.IMG_ZIP_FILE}'\n",
        "print()\n",
        "!ls -lart {params.IMG_ZIP_FILE}"
      ]
    },
    {
      "cell_type": "code",
      "execution_count": 4,
      "metadata": {
        "colab": {
          "base_uri": "https://localhost:8080/"
        },
        "id": "XSoB-jX5n7l8",
        "outputId": "7912289e-3cef-48d8-e583-292701d8d92a"
      },
      "outputs": [
        {
          "name": "stdout",
          "output_type": "stream",
          "text": [
            "Unzipping DeepWeeds images into /content/torch-draft-final_project-main/data/images\n",
            "17509\n"
          ]
        },
        {
          "data": {
            "text/plain": [
              "['20180125-100017-1.jpg',\n",
              " '20170920-163318-3.jpg',\n",
              " '20170501-143226-0.jpg',\n",
              " '20171025-074626-2.jpg',\n",
              " '20170920-192350-1.jpg']"
            ]
          },
          "execution_count": 4,
          "metadata": {},
          "output_type": "execute_result"
        }
      ],
      "source": [
        "from zipfile import ZipFile\n",
        "print(\"Unzipping DeepWeeds images into \" + params.IMG_DIRECTORY)\n",
        "\n",
        "with ZipFile(params.IMG_ZIP_FILE, \"r\") as zip_ref:\n",
        "    zip_ref.extractall(params.IMG_DIRECTORY)\n",
        "\n",
        "img_list=os.listdir(params.IMG_DIRECTORY)\n",
        "print(len(img_list))\n",
        "img_list[0:5]"
      ]
    },
    {
      "cell_type": "markdown",
      "metadata": {
        "id": "fkumlwo0gMaP"
      },
      "source": [
        "### Download the models from Google Drive\n",
        "\n"
      ]
    },
    {
      "cell_type": "code",
      "execution_count": 5,
      "metadata": {
        "colab": {
          "base_uri": "https://localhost:8080/"
        },
        "id": "FtrN_ZIRocgW",
        "outputId": "bdf5fc54-477c-4235-c78a-24776c91e7b8"
      },
      "outputs": [
        {
          "name": "stdout",
          "output_type": "stream",
          "text": [
            "Downloading DeepWeeds model file to /content/torch-draft-final_project-main/data/models.zip\n",
            "\n",
            "-rw------- 1 root root 500977517 Mar 27 23:49 /content/torch-draft-final_project-main/data/models.zip\n"
          ]
        }
      ],
      "source": [
        "print(\"Downloading DeepWeeds model file to \" + params.MODEL_ZIP_FILE)\n",
        "!cp '{params.GD_ZIP_MODEL}' {params.MODEL_ZIP_FILE}\n",
        "print()\n",
        "!ls -lart {params.MODEL_ZIP_FILE}"
      ]
    },
    {
      "cell_type": "code",
      "execution_count": 6,
      "metadata": {
        "colab": {
          "base_uri": "https://localhost:8080/"
        },
        "id": "XWLUFvQEnvYa",
        "outputId": "c1d593fe-d1e9-4daf-c7d9-7b1165926a47"
      },
      "outputs": [
        {
          "name": "stdout",
          "output_type": "stream",
          "text": [
            "Unzipping DeepWeeds model files into /content/torch-draft-final_project-main/data/models\n",
            "total 533476\n",
            "drwxr-xr-x 5 root root      4096 Mar 27 23:49 ..\n",
            "-rw-r--r-- 1 root root 262650488 Mar 27 23:49 inception.hdf5\n",
            "drwxr-xr-x 2 root root      4096 Mar 27 23:49 .\n",
            "-rw-r--r-- 1 root root 283616576 Mar 27 23:49 resnet.hdf5\n"
          ]
        }
      ],
      "source": [
        "print(\"Unzipping DeepWeeds model files into \" + params.MODEL_DIRECTORY)\n",
        "\n",
        "with ZipFile(params.MODEL_ZIP_FILE, \"r\") as zip_ref:\n",
        "    zip_ref.extractall(params.MODEL_DIRECTORY)\n",
        "\n",
        "!ls -lart {params.MODEL_DIRECTORY}"
      ]
    },
    {
      "cell_type": "markdown",
      "metadata": {
        "id": "pytpFnqhu-Qo"
      },
      "source": [
        "### Get the Labels"
      ]
    },
    {
      "cell_type": "code",
      "execution_count": 7,
      "metadata": {
        "colab": {
          "base_uri": "https://localhost:8080/"
        },
        "id": "OlgGu2Eguwwe",
        "outputId": "8674b5a7-f156-4516-ab55-78479550de17"
      },
      "outputs": [
        {
          "name": "stdout",
          "output_type": "stream",
          "text": [
            "labels.csv\t  test_subset3.csv   train_subset2.csv\tval_subset1.csv\n",
            "test_subset0.csv  test_subset4.csv   train_subset3.csv\tval_subset2.csv\n",
            "test_subset1.csv  train_subset0.csv  train_subset4.csv\tval_subset3.csv\n",
            "test_subset2.csv  train_subset1.csv  val_subset0.csv\tval_subset4.csv\n"
          ]
        }
      ],
      "source": [
        "LABEL_PATH = os.path.join(params.DATA_PATH, 'labels')\n",
        "!ls {LABEL_PATH}"
      ]
    },
    {
      "cell_type": "code",
      "execution_count": null,
      "metadata": {
        "id": "BFFLlrpCuw1Y"
      },
      "outputs": [],
      "source": [
        "import pandas as pd\n",
        "label_df = pd.read_csv(os.path.join(LABEL_PATH, 'labels.csv'))\n",
        "label_df"
      ]
    },
    {
      "cell_type": "code",
      "execution_count": null,
      "metadata": {
        "id": "QVXtDqHGoci7"
      },
      "outputs": [],
      "source": [
        "label0 = label_df[label_df[\"Label\"] == 0]\n",
        "label1 = label_df[label_df[\"Label\"] == 1]\n",
        "label2 = label_df[label_df[\"Label\"] == 2]\n",
        "label3 = label_df[label_df[\"Label\"] == 3]\n",
        "label4 = label_df[label_df[\"Label\"] == 4]\n",
        "label5 = label_df[label_df[\"Label\"] == 5]\n",
        "label6 = label_df[label_df[\"Label\"] == 6]\n",
        "label7 = label_df[label_df[\"Label\"] == 7]\n",
        "label8 = label_df[label_df[\"Label\"] == 8]\n",
        "\n",
        "len_all_weeds = len(label0) + len(label1) + \\\n",
        "len(label2) + len(label3) + len(label4) + \\\n",
        "len(label5) + len(label6) + len(label7)\n",
        "\n",
        "print('Combined weed samples={}. Negative samples={}.'.format(\n",
        "    len_all_weeds, len(label8) ) )"
      ]
    },
    {
      "cell_type": "code",
      "execution_count": null,
      "metadata": {
        "id": "Hggwog6-oclA"
      },
      "outputs": [],
      "source": [
        "import matplotlib.pyplot as plt\n",
        "import seaborn as sns\n",
        "sns.histplot(label_df['Label'], bins=8, discrete=True, color=\"cadetblue\")\n",
        "None"
      ]
    },
    {
      "cell_type": "code",
      "execution_count": null,
      "metadata": {
        "id": "Bd66CPWFn7u8"
      },
      "outputs": [],
      "source": []
    },
    {
      "cell_type": "code",
      "execution_count": null,
      "metadata": {
        "id": "bEE_h9zc1IHI"
      },
      "outputs": [],
      "source": []
    },
    {
      "cell_type": "code",
      "execution_count": null,
      "metadata": {
        "id": "seCT7NqR1IP9"
      },
      "outputs": [],
      "source": []
    }
  ],
  "metadata": {
    "accelerator": "GPU",
    "colab": {
      "authorship_tag": "ABX9TyMfRFLVPyKgGDzwCbH6NZ85",
      "collapsed_sections": [],
      "include_colab_link": true,
      "machine_shape": "hm",
      "name": "test_yolo5.ipynb",
      "provenance": []
    },
    "kernelspec": {
      "display_name": "Python 3",
      "name": "python3"
    },
    "language_info": {
      "name": "python"
    }
  },
  "nbformat": 4,
  "nbformat_minor": 0
}
